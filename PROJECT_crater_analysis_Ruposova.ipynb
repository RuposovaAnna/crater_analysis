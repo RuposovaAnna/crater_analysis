{
 "cells": [
  {
   "cell_type": "code",
   "execution_count": 1,
   "metadata": {},
   "outputs": [],
   "source": [
    "#импортируем все необходимые библиотеки для дальнейшего анализа\n",
    "import pandas as pd\n",
    "import matplotlib.pyplot as plt\n",
    "%matplotlib inline\n",
    "import seaborn as sns\n",
    "import numpy as np\n",
    "import datetime"
   ]
  },
  {
   "cell_type": "code",
   "execution_count": 2,
   "metadata": {},
   "outputs": [],
   "source": [
    "#выгружаем данные из первой таблицы и смотрим на типы данных \n",
    "events = pd.read_csv('/Users/annaruposova/Desktop/Analytics/воронка проект /7_4_Events.csv', sep=',')"
   ]
  },
  {
   "cell_type": "markdown",
   "metadata": {},
   "source": [
    "Преобразовываем данные:"
   ]
  },
  {
   "cell_type": "code",
   "execution_count": 3,
   "metadata": {},
   "outputs": [],
   "source": [
    "#удаляем дубликаты (если они есть)\n",
    "events.drop_duplicates()\n",
    "#приобразуем столбец в формат datetime для корректных расчетов  \n",
    "events['start_time'] = pd.to_datetime(events['start_time'], format='%Y-%m-%d %H:%M:%S', errors='coerce')\n",
    "#создаем маску для фильтрации данных (нам нужны данные только о тех пользователях, \n",
    "#кто зарегестрировался в 2018 году)\n",
    "mask =(events['start_time']>='2018-01-01') & \\\n",
    "    (events['start_time']<'2019-01-01') & (events['event_type']=='registration')\n",
    "#создаем список id пользователей, которые зарегестрировались в 2018 году\n",
    "registered=events[mask].user_id.to_list() \n",
    "#создаем итоговый датафрейм с преобразованными и отфильтрованными данными \n",
    "events_df=events[events.user_id.isin(registered)]"
   ]
  },
  {
   "cell_type": "markdown",
   "metadata": {},
   "source": [
    "## Итоговая первая таблица `EVENTS`"
   ]
  },
  {
   "cell_type": "code",
   "execution_count": 4,
   "metadata": {},
   "outputs": [
    {
     "data": {
      "text/html": [
       "<div>\n",
       "<style scoped>\n",
       "    .dataframe tbody tr th:only-of-type {\n",
       "        vertical-align: middle;\n",
       "    }\n",
       "\n",
       "    .dataframe tbody tr th {\n",
       "        vertical-align: top;\n",
       "    }\n",
       "\n",
       "    .dataframe thead th {\n",
       "        text-align: right;\n",
       "    }\n",
       "</style>\n",
       "<table border=\"1\" class=\"dataframe\">\n",
       "  <thead>\n",
       "    <tr style=\"text-align: right;\">\n",
       "      <th></th>\n",
       "      <th>id</th>\n",
       "      <th>event_type</th>\n",
       "      <th>selected_level</th>\n",
       "      <th>start_time</th>\n",
       "      <th>tutorial_id</th>\n",
       "      <th>user_id</th>\n",
       "    </tr>\n",
       "  </thead>\n",
       "  <tbody>\n",
       "    <tr>\n",
       "      <th>51405</th>\n",
       "      <td>80308</td>\n",
       "      <td>registration</td>\n",
       "      <td>NaN</td>\n",
       "      <td>2018-01-01 03:48:40</td>\n",
       "      <td>NaN</td>\n",
       "      <td>27832</td>\n",
       "    </tr>\n",
       "    <tr>\n",
       "      <th>51406</th>\n",
       "      <td>80309</td>\n",
       "      <td>registration</td>\n",
       "      <td>NaN</td>\n",
       "      <td>2018-01-01 04:07:25</td>\n",
       "      <td>NaN</td>\n",
       "      <td>27833</td>\n",
       "    </tr>\n",
       "    <tr>\n",
       "      <th>51407</th>\n",
       "      <td>80310</td>\n",
       "      <td>registration</td>\n",
       "      <td>NaN</td>\n",
       "      <td>2018-01-01 08:35:10</td>\n",
       "      <td>NaN</td>\n",
       "      <td>27834</td>\n",
       "    </tr>\n",
       "    <tr>\n",
       "      <th>51408</th>\n",
       "      <td>80311</td>\n",
       "      <td>registration</td>\n",
       "      <td>NaN</td>\n",
       "      <td>2018-01-01 11:54:47</td>\n",
       "      <td>NaN</td>\n",
       "      <td>27835</td>\n",
       "    </tr>\n",
       "    <tr>\n",
       "      <th>51409</th>\n",
       "      <td>80312</td>\n",
       "      <td>registration</td>\n",
       "      <td>NaN</td>\n",
       "      <td>2018-01-01 13:28:07</td>\n",
       "      <td>NaN</td>\n",
       "      <td>27836</td>\n",
       "    </tr>\n",
       "  </tbody>\n",
       "</table>\n",
       "</div>"
      ],
      "text/plain": [
       "          id    event_type selected_level          start_time  tutorial_id  \\\n",
       "51405  80308  registration            NaN 2018-01-01 03:48:40          NaN   \n",
       "51406  80309  registration            NaN 2018-01-01 04:07:25          NaN   \n",
       "51407  80310  registration            NaN 2018-01-01 08:35:10          NaN   \n",
       "51408  80311  registration            NaN 2018-01-01 11:54:47          NaN   \n",
       "51409  80312  registration            NaN 2018-01-01 13:28:07          NaN   \n",
       "\n",
       "       user_id  \n",
       "51405    27832  \n",
       "51406    27833  \n",
       "51407    27834  \n",
       "51408    27835  \n",
       "51409    27836  "
      ]
     },
     "execution_count": 4,
     "metadata": {},
     "output_type": "execute_result"
    }
   ],
   "source": [
    "events_df.head()"
   ]
  },
  {
   "cell_type": "markdown",
   "metadata": {},
   "source": [
    "Переходим ко второй таблице ***Purchase***:"
   ]
  },
  {
   "cell_type": "code",
   "execution_count": 5,
   "metadata": {},
   "outputs": [],
   "source": [
    "purchases = pd.read_csv('/Users/annaruposova/Desktop/Analytics/воронка проект /purchase.csv', sep=',')"
   ]
  },
  {
   "cell_type": "markdown",
   "metadata": {},
   "source": [
    "Преобразуем стобец ***event_datetime*** в формат datetime аналогично таблице Events:"
   ]
  },
  {
   "cell_type": "code",
   "execution_count": 6,
   "metadata": {},
   "outputs": [],
   "source": [
    "purchases['event_datetime'] = pd.to_datetime(purchases['event_datetime'], \\\n",
    "                                             format='%Y-%m-%d %H:%M:%S', errors='coerce' )\n",
    "purchases_df = purchases[purchases['user_id'].isin(registered)]\n",
    "#добавим к таблице столбец с событием покупки для дальнейшего объединения таблиц\n",
    "pd.options.mode.chained_assignment = None\n",
    "purchases_df.loc[:,'event_type'] = 'purchase'"
   ]
  },
  {
   "cell_type": "markdown",
   "metadata": {},
   "source": [
    "## Итоговая вторая таблица `PURCHASES`"
   ]
  },
  {
   "cell_type": "code",
   "execution_count": 7,
   "metadata": {},
   "outputs": [
    {
     "data": {
      "text/html": [
       "<div>\n",
       "<style scoped>\n",
       "    .dataframe tbody tr th:only-of-type {\n",
       "        vertical-align: middle;\n",
       "    }\n",
       "\n",
       "    .dataframe tbody tr th {\n",
       "        vertical-align: top;\n",
       "    }\n",
       "\n",
       "    .dataframe thead th {\n",
       "        text-align: right;\n",
       "    }\n",
       "</style>\n",
       "<table border=\"1\" class=\"dataframe\">\n",
       "  <thead>\n",
       "    <tr style=\"text-align: right;\">\n",
       "      <th></th>\n",
       "      <th>id</th>\n",
       "      <th>user_id</th>\n",
       "      <th>event_datetime</th>\n",
       "      <th>amount</th>\n",
       "      <th>event_type</th>\n",
       "    </tr>\n",
       "  </thead>\n",
       "  <tbody>\n",
       "    <tr>\n",
       "      <th>1171</th>\n",
       "      <td>16845</td>\n",
       "      <td>27845</td>\n",
       "      <td>2018-01-03 18:53:43</td>\n",
       "      <td>100</td>\n",
       "      <td>purchase</td>\n",
       "    </tr>\n",
       "    <tr>\n",
       "      <th>1172</th>\n",
       "      <td>16846</td>\n",
       "      <td>27865</td>\n",
       "      <td>2018-01-04 14:46:10</td>\n",
       "      <td>250</td>\n",
       "      <td>purchase</td>\n",
       "    </tr>\n",
       "    <tr>\n",
       "      <th>1174</th>\n",
       "      <td>16848</td>\n",
       "      <td>27911</td>\n",
       "      <td>2018-01-07 08:19:12</td>\n",
       "      <td>50</td>\n",
       "      <td>purchase</td>\n",
       "    </tr>\n",
       "    <tr>\n",
       "      <th>1175</th>\n",
       "      <td>16849</td>\n",
       "      <td>27910</td>\n",
       "      <td>2018-01-07 12:11:34</td>\n",
       "      <td>100</td>\n",
       "      <td>purchase</td>\n",
       "    </tr>\n",
       "    <tr>\n",
       "      <th>1176</th>\n",
       "      <td>16850</td>\n",
       "      <td>27940</td>\n",
       "      <td>2018-01-07 13:16:41</td>\n",
       "      <td>200</td>\n",
       "      <td>purchase</td>\n",
       "    </tr>\n",
       "  </tbody>\n",
       "</table>\n",
       "</div>"
      ],
      "text/plain": [
       "         id  user_id      event_datetime  amount event_type\n",
       "1171  16845    27845 2018-01-03 18:53:43     100   purchase\n",
       "1172  16846    27865 2018-01-04 14:46:10     250   purchase\n",
       "1174  16848    27911 2018-01-07 08:19:12      50   purchase\n",
       "1175  16849    27910 2018-01-07 12:11:34     100   purchase\n",
       "1176  16850    27940 2018-01-07 13:16:41     200   purchase"
      ]
     },
     "execution_count": 7,
     "metadata": {},
     "output_type": "execute_result"
    }
   ],
   "source": [
    "purchases_df.head()"
   ]
  },
  {
   "cell_type": "markdown",
   "metadata": {},
   "source": [
    "# РЕШЕНИЕ ЗАДАЧИ №1 \n",
    "---\n",
    ">### Нам нужно проверить, отличается ли время прохождения различных этапов для пользователей, которые прошли обучение, от пользователей, не начинавших обучение. \n",
    "---\n",
    "## Алгоритм действий: ##\n",
    "   \n",
    "* В задаче есть упоминание о пользователях, которые **не начинали** обучение и пользователи, которые **прошли** обучение. У нас остается еще одна группа: пользователи, которые начали обучение, **но** не прошли его. Я решила оставить эту группу без внимания, т.к. о ней не упоминалось в задаче. И она несет мало смысла, потому что не известно, решил ли пользователь заканчивать обучение или же не намерен этого делать.\n",
    "   \n",
    "* И так как задача поставлена не четко, я хочу проанализировать разницу во времени между регистрацией и оплатой, регистрацией и выбором пакета, регистрацией и выбором уровня для двух групп. **Разница во времени** этих этапов и будет **ответом** на вопрос: \"отличается ли время прохождения различных этапов для пользователей, которые прошли обучение и не начинали?\" соответственно.\n",
    "   \n",
    "   "
   ]
  },
  {
   "cell_type": "markdown",
   "metadata": {},
   "source": [
    "Для начала объединим получившиеся датафреймы в единую таблицу:"
   ]
  },
  {
   "cell_type": "code",
   "execution_count": 8,
   "metadata": {},
   "outputs": [],
   "source": [
    "#переименовываем столбцы для корректного объединения:\n",
    "events_df = events_df.rename(columns={\"id\": \"event_id\"})\n",
    "purchases_df = purchases_df.rename(columns={\"id\": \"purchase_id\", \"event_datetime\": \"start_time\"})"
   ]
  },
  {
   "cell_type": "code",
   "execution_count": 9,
   "metadata": {},
   "outputs": [],
   "source": [
    "#объединяем таблицы events_df и purchases_df\n",
    "total_events_df = pd.concat([events_df,purchases_df],sort=False)\n",
    "total_events_df = total_events_df.reset_index(drop=True).sort_values('start_time')"
   ]
  },
  {
   "cell_type": "markdown",
   "metadata": {},
   "source": [
    "## Итоговый датафрейм `total_events_df`"
   ]
  },
  {
   "cell_type": "code",
   "execution_count": 10,
   "metadata": {},
   "outputs": [
    {
     "data": {
      "text/html": [
       "<div>\n",
       "<style scoped>\n",
       "    .dataframe tbody tr th:only-of-type {\n",
       "        vertical-align: middle;\n",
       "    }\n",
       "\n",
       "    .dataframe tbody tr th {\n",
       "        vertical-align: top;\n",
       "    }\n",
       "\n",
       "    .dataframe thead th {\n",
       "        text-align: right;\n",
       "    }\n",
       "</style>\n",
       "<table border=\"1\" class=\"dataframe\">\n",
       "  <thead>\n",
       "    <tr style=\"text-align: right;\">\n",
       "      <th></th>\n",
       "      <th>event_id</th>\n",
       "      <th>event_type</th>\n",
       "      <th>selected_level</th>\n",
       "      <th>start_time</th>\n",
       "      <th>tutorial_id</th>\n",
       "      <th>user_id</th>\n",
       "      <th>purchase_id</th>\n",
       "      <th>amount</th>\n",
       "    </tr>\n",
       "  </thead>\n",
       "  <tbody>\n",
       "    <tr>\n",
       "      <th>0</th>\n",
       "      <td>80308.0</td>\n",
       "      <td>registration</td>\n",
       "      <td>NaN</td>\n",
       "      <td>2018-01-01 03:48:40</td>\n",
       "      <td>NaN</td>\n",
       "      <td>27832</td>\n",
       "      <td>NaN</td>\n",
       "      <td>NaN</td>\n",
       "    </tr>\n",
       "    <tr>\n",
       "      <th>1</th>\n",
       "      <td>80309.0</td>\n",
       "      <td>registration</td>\n",
       "      <td>NaN</td>\n",
       "      <td>2018-01-01 04:07:25</td>\n",
       "      <td>NaN</td>\n",
       "      <td>27833</td>\n",
       "      <td>NaN</td>\n",
       "      <td>NaN</td>\n",
       "    </tr>\n",
       "    <tr>\n",
       "      <th>2</th>\n",
       "      <td>80310.0</td>\n",
       "      <td>registration</td>\n",
       "      <td>NaN</td>\n",
       "      <td>2018-01-01 08:35:10</td>\n",
       "      <td>NaN</td>\n",
       "      <td>27834</td>\n",
       "      <td>NaN</td>\n",
       "      <td>NaN</td>\n",
       "    </tr>\n",
       "    <tr>\n",
       "      <th>3</th>\n",
       "      <td>80311.0</td>\n",
       "      <td>registration</td>\n",
       "      <td>NaN</td>\n",
       "      <td>2018-01-01 11:54:47</td>\n",
       "      <td>NaN</td>\n",
       "      <td>27835</td>\n",
       "      <td>NaN</td>\n",
       "      <td>NaN</td>\n",
       "    </tr>\n",
       "    <tr>\n",
       "      <th>4</th>\n",
       "      <td>80312.0</td>\n",
       "      <td>registration</td>\n",
       "      <td>NaN</td>\n",
       "      <td>2018-01-01 13:28:07</td>\n",
       "      <td>NaN</td>\n",
       "      <td>27836</td>\n",
       "      <td>NaN</td>\n",
       "      <td>NaN</td>\n",
       "    </tr>\n",
       "  </tbody>\n",
       "</table>\n",
       "</div>"
      ],
      "text/plain": [
       "   event_id    event_type selected_level          start_time  tutorial_id  \\\n",
       "0   80308.0  registration            NaN 2018-01-01 03:48:40          NaN   \n",
       "1   80309.0  registration            NaN 2018-01-01 04:07:25          NaN   \n",
       "2   80310.0  registration            NaN 2018-01-01 08:35:10          NaN   \n",
       "3   80311.0  registration            NaN 2018-01-01 11:54:47          NaN   \n",
       "4   80312.0  registration            NaN 2018-01-01 13:28:07          NaN   \n",
       "\n",
       "   user_id  purchase_id  amount  \n",
       "0    27832          NaN     NaN  \n",
       "1    27833          NaN     NaN  \n",
       "2    27834          NaN     NaN  \n",
       "3    27835          NaN     NaN  \n",
       "4    27836          NaN     NaN  "
      ]
     },
     "execution_count": 10,
     "metadata": {},
     "output_type": "execute_result"
    }
   ],
   "source": [
    "total_events_df.head()"
   ]
  },
  {
   "cell_type": "markdown",
   "metadata": {},
   "source": [
    "*У нас есть единый датафрейм со всеми событиями, включая оплату. Нам нужно разбить пользователей по группам: **прошли обучение/не начинали проходить обучение.** Начнем с первой группы, а именно с сортировки пользователей, которые прошли обучение. У таких пользователей есть событие завершения обучения:*"
   ]
  },
  {
   "cell_type": "code",
   "execution_count": 11,
   "metadata": {},
   "outputs": [],
   "source": [
    "#создаем список пользователей у которых есть событие tutorial_finish\n",
    "tutorial_finish = set(total_events_df[total_events_df['event_type'] == 'tutorial_finish']['user_id'])"
   ]
  },
  {
   "cell_type": "code",
   "execution_count": 12,
   "metadata": {},
   "outputs": [],
   "source": [
    "#создаем датафрейм с нужной нам группой пользователей применияя фильтрацию \n",
    "tutorial_finish_df = total_events_df[total_events_df['user_id'].isin(tutorial_finish)]"
   ]
  },
  {
   "cell_type": "markdown",
   "metadata": {},
   "source": [
    "## Датафрейм с первой группой  `\"tutorial_finish_df\"`\n",
    "---\n",
    "Пользователи, кто прошел обучение. "
   ]
  },
  {
   "cell_type": "code",
   "execution_count": 13,
   "metadata": {},
   "outputs": [
    {
     "data": {
      "text/html": [
       "<div>\n",
       "<style scoped>\n",
       "    .dataframe tbody tr th:only-of-type {\n",
       "        vertical-align: middle;\n",
       "    }\n",
       "\n",
       "    .dataframe tbody tr th {\n",
       "        vertical-align: top;\n",
       "    }\n",
       "\n",
       "    .dataframe thead th {\n",
       "        text-align: right;\n",
       "    }\n",
       "</style>\n",
       "<table border=\"1\" class=\"dataframe\">\n",
       "  <thead>\n",
       "    <tr style=\"text-align: right;\">\n",
       "      <th></th>\n",
       "      <th>event_id</th>\n",
       "      <th>event_type</th>\n",
       "      <th>selected_level</th>\n",
       "      <th>start_time</th>\n",
       "      <th>tutorial_id</th>\n",
       "      <th>user_id</th>\n",
       "      <th>purchase_id</th>\n",
       "      <th>amount</th>\n",
       "    </tr>\n",
       "  </thead>\n",
       "  <tbody>\n",
       "    <tr>\n",
       "      <th>1</th>\n",
       "      <td>80309.0</td>\n",
       "      <td>registration</td>\n",
       "      <td>NaN</td>\n",
       "      <td>2018-01-01 04:07:25</td>\n",
       "      <td>NaN</td>\n",
       "      <td>27833</td>\n",
       "      <td>NaN</td>\n",
       "      <td>NaN</td>\n",
       "    </tr>\n",
       "    <tr>\n",
       "      <th>2</th>\n",
       "      <td>80310.0</td>\n",
       "      <td>registration</td>\n",
       "      <td>NaN</td>\n",
       "      <td>2018-01-01 08:35:10</td>\n",
       "      <td>NaN</td>\n",
       "      <td>27834</td>\n",
       "      <td>NaN</td>\n",
       "      <td>NaN</td>\n",
       "    </tr>\n",
       "    <tr>\n",
       "      <th>3</th>\n",
       "      <td>80311.0</td>\n",
       "      <td>registration</td>\n",
       "      <td>NaN</td>\n",
       "      <td>2018-01-01 11:54:47</td>\n",
       "      <td>NaN</td>\n",
       "      <td>27835</td>\n",
       "      <td>NaN</td>\n",
       "      <td>NaN</td>\n",
       "    </tr>\n",
       "    <tr>\n",
       "      <th>4</th>\n",
       "      <td>80312.0</td>\n",
       "      <td>registration</td>\n",
       "      <td>NaN</td>\n",
       "      <td>2018-01-01 13:28:07</td>\n",
       "      <td>NaN</td>\n",
       "      <td>27836</td>\n",
       "      <td>NaN</td>\n",
       "      <td>NaN</td>\n",
       "    </tr>\n",
       "    <tr>\n",
       "      <th>7</th>\n",
       "      <td>80315.0</td>\n",
       "      <td>tutorial_start</td>\n",
       "      <td>NaN</td>\n",
       "      <td>2018-01-01 14:54:40</td>\n",
       "      <td>31505.0</td>\n",
       "      <td>27836</td>\n",
       "      <td>NaN</td>\n",
       "      <td>NaN</td>\n",
       "    </tr>\n",
       "  </tbody>\n",
       "</table>\n",
       "</div>"
      ],
      "text/plain": [
       "   event_id      event_type selected_level          start_time  tutorial_id  \\\n",
       "1   80309.0    registration            NaN 2018-01-01 04:07:25          NaN   \n",
       "2   80310.0    registration            NaN 2018-01-01 08:35:10          NaN   \n",
       "3   80311.0    registration            NaN 2018-01-01 11:54:47          NaN   \n",
       "4   80312.0    registration            NaN 2018-01-01 13:28:07          NaN   \n",
       "7   80315.0  tutorial_start            NaN 2018-01-01 14:54:40      31505.0   \n",
       "\n",
       "   user_id  purchase_id  amount  \n",
       "1    27833          NaN     NaN  \n",
       "2    27834          NaN     NaN  \n",
       "3    27835          NaN     NaN  \n",
       "4    27836          NaN     NaN  \n",
       "7    27836          NaN     NaN  "
      ]
     },
     "execution_count": 13,
     "metadata": {},
     "output_type": "execute_result"
    }
   ],
   "source": [
    "tutorial_finish_df.head()"
   ]
  },
  {
   "cell_type": "markdown",
   "metadata": {},
   "source": [
    "Создаем датасет с событем ***`регистрации для 1-й группы:`***"
   ]
  },
  {
   "cell_type": "code",
   "execution_count": 14,
   "metadata": {},
   "outputs": [],
   "source": [
    "tutorial_finish_registration = tutorial_finish_df[tutorial_finish_df['event_type'] == 'registration']"
   ]
  },
  {
   "cell_type": "code",
   "execution_count": 15,
   "metadata": {},
   "outputs": [],
   "source": [
    "#переиминовываем столбы с временем события для дальнешего объединения таблиц\n",
    "tutorial_finish_registration = tutorial_finish_registration[[\"user_id\", \"start_time\"]].rename(\n",
    "    columns={\"start_time\": \"registration_time\"})"
   ]
  },
  {
   "cell_type": "markdown",
   "metadata": {},
   "source": [
    "Создаем датасет с событем  ***`выбор уровня сложности для 1-й группы`***:"
   ]
  },
  {
   "cell_type": "code",
   "execution_count": 16,
   "metadata": {},
   "outputs": [],
   "source": [
    "#аналогично предыдущим этапам создаем датасет \n",
    "tutorial_finish_level_choice = tutorial_finish_df[tutorial_finish_df['event_type'] == 'level_choice'].\\\n",
    "reset_index(drop=True)"
   ]
  },
  {
   "cell_type": "code",
   "execution_count": 17,
   "metadata": {},
   "outputs": [],
   "source": [
    "tutorial_finish_level_choice = tutorial_finish_level_choice[[\"user_id\", \"start_time\"]].rename(\n",
    "    columns={\"start_time\": \"level_choice_time\"})"
   ]
  },
  {
   "cell_type": "markdown",
   "metadata": {},
   "source": [
    "Переходим к объединению датафреймов событий ***регистрации и выбора уровня сложности*** для 1-й группы: "
   ]
  },
  {
   "cell_type": "code",
   "execution_count": 18,
   "metadata": {},
   "outputs": [
    {
     "data": {
      "text/html": [
       "<div>\n",
       "<style scoped>\n",
       "    .dataframe tbody tr th:only-of-type {\n",
       "        vertical-align: middle;\n",
       "    }\n",
       "\n",
       "    .dataframe tbody tr th {\n",
       "        vertical-align: top;\n",
       "    }\n",
       "\n",
       "    .dataframe thead th {\n",
       "        text-align: right;\n",
       "    }\n",
       "</style>\n",
       "<table border=\"1\" class=\"dataframe\">\n",
       "  <thead>\n",
       "    <tr style=\"text-align: right;\">\n",
       "      <th></th>\n",
       "      <th>user_id</th>\n",
       "      <th>registration_time</th>\n",
       "      <th>level_choice_time</th>\n",
       "    </tr>\n",
       "  </thead>\n",
       "  <tbody>\n",
       "    <tr>\n",
       "      <th>0</th>\n",
       "      <td>27835</td>\n",
       "      <td>2018-01-01 11:54:47</td>\n",
       "      <td>2018-01-01 20:37:22</td>\n",
       "    </tr>\n",
       "    <tr>\n",
       "      <th>1</th>\n",
       "      <td>27839</td>\n",
       "      <td>2018-01-01 18:24:01</td>\n",
       "      <td>2018-01-01 22:37:50</td>\n",
       "    </tr>\n",
       "    <tr>\n",
       "      <th>2</th>\n",
       "      <td>27842</td>\n",
       "      <td>2018-01-01 23:18:46</td>\n",
       "      <td>2018-01-02 08:46:03</td>\n",
       "    </tr>\n",
       "    <tr>\n",
       "      <th>3</th>\n",
       "      <td>27843</td>\n",
       "      <td>2018-01-02 00:02:28</td>\n",
       "      <td>2018-01-02 14:09:58</td>\n",
       "    </tr>\n",
       "    <tr>\n",
       "      <th>4</th>\n",
       "      <td>27845</td>\n",
       "      <td>2018-01-02 01:35:56</td>\n",
       "      <td>2018-01-02 06:19:18</td>\n",
       "    </tr>\n",
       "  </tbody>\n",
       "</table>\n",
       "</div>"
      ],
      "text/plain": [
       "   user_id   registration_time   level_choice_time\n",
       "0    27835 2018-01-01 11:54:47 2018-01-01 20:37:22\n",
       "1    27839 2018-01-01 18:24:01 2018-01-01 22:37:50\n",
       "2    27842 2018-01-01 23:18:46 2018-01-02 08:46:03\n",
       "3    27843 2018-01-02 00:02:28 2018-01-02 14:09:58\n",
       "4    27845 2018-01-02 01:35:56 2018-01-02 06:19:18"
      ]
     },
     "execution_count": 18,
     "metadata": {},
     "output_type": "execute_result"
    }
   ],
   "source": [
    "#объединяем таблицы при помощи функции .merge()\n",
    "merged_1 = tutorial_finish_registration.merge(tutorial_finish_level_choice, on = 'user_id', how = 'inner')\n",
    "merged_1.head()"
   ]
  },
  {
   "cell_type": "markdown",
   "metadata": {},
   "source": [
    "Рассчитываем ***разницу во времени между событиями выбора уровня сложности и регистрацией:***"
   ]
  },
  {
   "cell_type": "code",
   "execution_count": 19,
   "metadata": {},
   "outputs": [
    {
     "name": "stdout",
     "output_type": "stream",
     "text": [
      "Cреднее время между регистрацией и выбором уровня сложности для 1-й группы составляет:\n",
      " 0 days 07:05:36.854819357\n",
      "Общая информация о временных промежутках между событиями группы, закончившей обучение:\n",
      " count                         7501\n",
      "mean     0 days 07:05:36.854819357\n",
      "std      0 days 04:30:23.231509186\n",
      "min                0 days 00:08:15\n",
      "25%                0 days 03:51:41\n",
      "50%                0 days 06:00:07\n",
      "75%                0 days 09:25:42\n",
      "max                1 days 18:48:25\n",
      "Name: timedelta, dtype: object\n"
     ]
    }
   ],
   "source": [
    "#создаем столбец с разницей между временем выбора уровня и временем регистрации:\n",
    "merged_1['timedelta'] = (merged_1['level_choice_time'] - merged_1['registration_time'])\n",
    "print('Cреднее время между регистрацией и выбором уровня сложности для 1-й группы составляет:\\n',\\\n",
    "      merged_1['timedelta'].mean())\n",
    "print('Общая информация о временных промежутках между событиями группы, \\\n",
    "закончившей обучение:\\n',merged_1['timedelta'].describe())"
   ]
  },
  {
   "cell_type": "markdown",
   "metadata": {},
   "source": [
    "Как видим из описания медианное время отличается от среднего всего на 1ч 5мин.  \n",
    "25% пользователей, закончившие обучение, прошли путь от регистрации до выбора уровня сложности за 3ч 51мин. \n",
    "\n",
    "Создаем датасет с событем  ***`выбор пакетов вопросов для 1-й группы`***:"
   ]
  },
  {
   "cell_type": "code",
   "execution_count": 20,
   "metadata": {},
   "outputs": [],
   "source": [
    "tutorial_finish_pack_choice = tutorial_finish_df[tutorial_finish_df['event_type'] == 'pack_choice'].\\\n",
    "    reset_index(drop=True)\n",
    "tutorial_finish_pack_choice = tutorial_finish_pack_choice[[\"user_id\", \"start_time\"]].rename(\n",
    "    columns={\"start_time\": \"pack_choice_time\"})"
   ]
  },
  {
   "cell_type": "markdown",
   "metadata": {},
   "source": [
    "Переходим к объединению датафреймов событий ***регистрации и выбора пакетов вопросов*** для 1-й группы: "
   ]
  },
  {
   "cell_type": "code",
   "execution_count": 21,
   "metadata": {},
   "outputs": [
    {
     "data": {
      "text/html": [
       "<div>\n",
       "<style scoped>\n",
       "    .dataframe tbody tr th:only-of-type {\n",
       "        vertical-align: middle;\n",
       "    }\n",
       "\n",
       "    .dataframe tbody tr th {\n",
       "        vertical-align: top;\n",
       "    }\n",
       "\n",
       "    .dataframe thead th {\n",
       "        text-align: right;\n",
       "    }\n",
       "</style>\n",
       "<table border=\"1\" class=\"dataframe\">\n",
       "  <thead>\n",
       "    <tr style=\"text-align: right;\">\n",
       "      <th></th>\n",
       "      <th>user_id</th>\n",
       "      <th>registration_time</th>\n",
       "      <th>pack_choice_time</th>\n",
       "    </tr>\n",
       "  </thead>\n",
       "  <tbody>\n",
       "    <tr>\n",
       "      <th>0</th>\n",
       "      <td>27835</td>\n",
       "      <td>2018-01-01 11:54:47</td>\n",
       "      <td>2018-01-01 20:38:43</td>\n",
       "    </tr>\n",
       "    <tr>\n",
       "      <th>1</th>\n",
       "      <td>27839</td>\n",
       "      <td>2018-01-01 18:24:01</td>\n",
       "      <td>2018-01-01 22:42:54</td>\n",
       "    </tr>\n",
       "    <tr>\n",
       "      <th>2</th>\n",
       "      <td>27843</td>\n",
       "      <td>2018-01-02 00:02:28</td>\n",
       "      <td>2018-01-02 14:14:51</td>\n",
       "    </tr>\n",
       "    <tr>\n",
       "      <th>3</th>\n",
       "      <td>27845</td>\n",
       "      <td>2018-01-02 01:35:56</td>\n",
       "      <td>2018-01-02 06:25:12</td>\n",
       "    </tr>\n",
       "    <tr>\n",
       "      <th>4</th>\n",
       "      <td>27846</td>\n",
       "      <td>2018-01-02 05:07:52</td>\n",
       "      <td>2018-01-02 15:14:18</td>\n",
       "    </tr>\n",
       "  </tbody>\n",
       "</table>\n",
       "</div>"
      ],
      "text/plain": [
       "   user_id   registration_time    pack_choice_time\n",
       "0    27835 2018-01-01 11:54:47 2018-01-01 20:38:43\n",
       "1    27839 2018-01-01 18:24:01 2018-01-01 22:42:54\n",
       "2    27843 2018-01-02 00:02:28 2018-01-02 14:14:51\n",
       "3    27845 2018-01-02 01:35:56 2018-01-02 06:25:12\n",
       "4    27846 2018-01-02 05:07:52 2018-01-02 15:14:18"
      ]
     },
     "execution_count": 21,
     "metadata": {},
     "output_type": "execute_result"
    }
   ],
   "source": [
    "merged_2 = tutorial_finish_registration.merge\\\n",
    "(tutorial_finish_pack_choice, on = 'user_id', how = 'inner')\n",
    "merged_2.head()"
   ]
  },
  {
   "cell_type": "code",
   "execution_count": 22,
   "metadata": {},
   "outputs": [
    {
     "name": "stdout",
     "output_type": "stream",
     "text": [
      "Cреднее время между регистрацией и выбором пакетов вопросов для 1-й группы составляет:\n",
      " 0 days 07:10:35.660162287\n"
     ]
    }
   ],
   "source": [
    "merged_2['timedelta']  = (merged_2['pack_choice_time'] - merged_2['registration_time'])\n",
    "print('Cреднее время между регистрацией и выбором пакетов вопросов для 1-й группы составляет:\\n',\\\n",
    "      merged_2['timedelta'].mean())"
   ]
  },
  {
   "cell_type": "markdown",
   "metadata": {},
   "source": [
    "Создаем датасет с событем  ***`покупки для 1-й группы`***:"
   ]
  },
  {
   "cell_type": "code",
   "execution_count": 23,
   "metadata": {},
   "outputs": [],
   "source": [
    "tutorial_finish_purchase = tutorial_finish_df[tutorial_finish_df['event_type'] == 'purchase'].\\\n",
    "    reset_index(drop=True)\n",
    "tutorial_finish_purchase = tutorial_finish_purchase[[\"user_id\", \"start_time\"]].rename(\n",
    "    columns={\"start_time\": \"purchase_time\"})"
   ]
  },
  {
   "cell_type": "markdown",
   "metadata": {},
   "source": [
    "Переходим к объединению датафреймов событий ***регистрации и покупки*** для 1-й группы: "
   ]
  },
  {
   "cell_type": "code",
   "execution_count": 24,
   "metadata": {},
   "outputs": [
    {
     "data": {
      "text/html": [
       "<div>\n",
       "<style scoped>\n",
       "    .dataframe tbody tr th:only-of-type {\n",
       "        vertical-align: middle;\n",
       "    }\n",
       "\n",
       "    .dataframe tbody tr th {\n",
       "        vertical-align: top;\n",
       "    }\n",
       "\n",
       "    .dataframe thead th {\n",
       "        text-align: right;\n",
       "    }\n",
       "</style>\n",
       "<table border=\"1\" class=\"dataframe\">\n",
       "  <thead>\n",
       "    <tr style=\"text-align: right;\">\n",
       "      <th></th>\n",
       "      <th>user_id</th>\n",
       "      <th>registration_time</th>\n",
       "      <th>purchase_time</th>\n",
       "    </tr>\n",
       "  </thead>\n",
       "  <tbody>\n",
       "    <tr>\n",
       "      <th>0</th>\n",
       "      <td>27845</td>\n",
       "      <td>2018-01-02 01:35:56</td>\n",
       "      <td>2018-01-03 18:53:43</td>\n",
       "    </tr>\n",
       "    <tr>\n",
       "      <th>1</th>\n",
       "      <td>27884</td>\n",
       "      <td>2018-01-04 11:50:43</td>\n",
       "      <td>2018-01-08 19:37:34</td>\n",
       "    </tr>\n",
       "    <tr>\n",
       "      <th>2</th>\n",
       "      <td>27910</td>\n",
       "      <td>2018-01-05 10:45:33</td>\n",
       "      <td>2018-01-07 12:11:34</td>\n",
       "    </tr>\n",
       "    <tr>\n",
       "      <th>3</th>\n",
       "      <td>27940</td>\n",
       "      <td>2018-01-05 23:41:24</td>\n",
       "      <td>2018-01-07 13:16:41</td>\n",
       "    </tr>\n",
       "    <tr>\n",
       "      <th>4</th>\n",
       "      <td>27969</td>\n",
       "      <td>2018-01-06 19:37:25</td>\n",
       "      <td>2018-01-08 01:18:23</td>\n",
       "    </tr>\n",
       "  </tbody>\n",
       "</table>\n",
       "</div>"
      ],
      "text/plain": [
       "   user_id   registration_time       purchase_time\n",
       "0    27845 2018-01-02 01:35:56 2018-01-03 18:53:43\n",
       "1    27884 2018-01-04 11:50:43 2018-01-08 19:37:34\n",
       "2    27910 2018-01-05 10:45:33 2018-01-07 12:11:34\n",
       "3    27940 2018-01-05 23:41:24 2018-01-07 13:16:41\n",
       "4    27969 2018-01-06 19:37:25 2018-01-08 01:18:23"
      ]
     },
     "execution_count": 24,
     "metadata": {},
     "output_type": "execute_result"
    }
   ],
   "source": [
    "merged_3 = tutorial_finish_registration.merge\\\n",
    "(tutorial_finish_purchase, on = 'user_id', how = 'inner')\n",
    "merged_3.head()"
   ]
  },
  {
   "cell_type": "code",
   "execution_count": 25,
   "metadata": {},
   "outputs": [
    {
     "name": "stdout",
     "output_type": "stream",
     "text": [
      "Cреднее время между регистрацией и покупкой для 1-й группы составляет:\n",
      " 4 days 00:30:03.247408431\n",
      "Общая информация о временных промежутках между событиями группы, закончившей обучение:\n",
      " count                         1447\n",
      "mean     4 days 00:30:03.247408431\n",
      "std      2 days 04:47:29.946150698\n",
      "min                0 days 04:36:58\n",
      "25%                2 days 04:09:55\n",
      "50%                3 days 19:04:59\n",
      "75%                5 days 15:46:14\n",
      "max               11 days 00:35:04\n",
      "Name: timedelta, dtype: object\n",
      "Разница между средним и медианным значением времени между событиями:\n",
      " 0 days 05:25:04.247408431\n"
     ]
    }
   ],
   "source": [
    "merged_3['timedelta'] = (merged_3['purchase_time'] - merged_3['registration_time'])\n",
    "print('Cреднее время между регистрацией и покупкой для 1-й группы составляет:\\n',merged_3['timedelta'].mean())\n",
    "print('Общая информация о временных промежутках между событиями группы, \\\n",
    "закончившей обучение:\\n',merged_3['timedelta'].describe())\n",
    "print('Разница между средним и медианным значением времени между событиями:\\n',\\\n",
    "      merged_3['timedelta'].mean() - merged_3['timedelta'].median())"
   ]
  },
  {
   "cell_type": "markdown",
   "metadata": {},
   "source": [
    "Как видим, медианное время отличается от среднего значения на 5ч. 25минут.  \n",
    "Это может быть обусловлено тем, что некоторые пользователи проходят этапы намного дольше, тем самым увеличивают среднее значение. \n",
    ">Как к примеру мы видим, что максимальное время, которое пользователь затратил между этапами регристрации и покупкой это 11 дней 35минут, что более чем в 2раза больше среднего знаечения."
   ]
  },
  {
   "cell_type": "markdown",
   "metadata": {},
   "source": [
    "Переходим к ***созданию 2-й группы:*** "
   ]
  },
  {
   "cell_type": "code",
   "execution_count": 26,
   "metadata": {},
   "outputs": [],
   "source": [
    "#создаем множество со всеми пользователями \n",
    "set_registered_users=set(total_events_df.user_id)\n",
    "#множество с пользователями, которые начали обучение\n",
    "set_with_start_tutorial = set(total_events_df[total_events_df['event_type'] == 'tutorial_start']['user_id'])\n",
    "#множество с пользователями, не начинавшими обучение\n",
    "not_started_tutorial = set_registered_users.difference(set_with_start_tutorial)\n",
    "#итоговый датасет со 2-й группой\n",
    "not_started_tutorial_df = total_events_df[total_events_df['user_id'].isin(not_started_tutorial)]"
   ]
  },
  {
   "cell_type": "markdown",
   "metadata": {},
   "source": [
    "## Датафрейм со второй группой  `\"not_started_tutorial_df\"`\n",
    "---\n",
    "Пользователи, кто не начинал обучение"
   ]
  },
  {
   "cell_type": "code",
   "execution_count": 27,
   "metadata": {},
   "outputs": [
    {
     "data": {
      "text/html": [
       "<div>\n",
       "<style scoped>\n",
       "    .dataframe tbody tr th:only-of-type {\n",
       "        vertical-align: middle;\n",
       "    }\n",
       "\n",
       "    .dataframe tbody tr th {\n",
       "        vertical-align: top;\n",
       "    }\n",
       "\n",
       "    .dataframe thead th {\n",
       "        text-align: right;\n",
       "    }\n",
       "</style>\n",
       "<table border=\"1\" class=\"dataframe\">\n",
       "  <thead>\n",
       "    <tr style=\"text-align: right;\">\n",
       "      <th></th>\n",
       "      <th>event_id</th>\n",
       "      <th>event_type</th>\n",
       "      <th>selected_level</th>\n",
       "      <th>start_time</th>\n",
       "      <th>tutorial_id</th>\n",
       "      <th>user_id</th>\n",
       "      <th>purchase_id</th>\n",
       "      <th>amount</th>\n",
       "    </tr>\n",
       "  </thead>\n",
       "  <tbody>\n",
       "    <tr>\n",
       "      <th>0</th>\n",
       "      <td>80308.0</td>\n",
       "      <td>registration</td>\n",
       "      <td>NaN</td>\n",
       "      <td>2018-01-01 03:48:40</td>\n",
       "      <td>NaN</td>\n",
       "      <td>27832</td>\n",
       "      <td>NaN</td>\n",
       "      <td>NaN</td>\n",
       "    </tr>\n",
       "    <tr>\n",
       "      <th>5</th>\n",
       "      <td>80313.0</td>\n",
       "      <td>registration</td>\n",
       "      <td>NaN</td>\n",
       "      <td>2018-01-01 14:08:40</td>\n",
       "      <td>NaN</td>\n",
       "      <td>27837</td>\n",
       "      <td>NaN</td>\n",
       "      <td>NaN</td>\n",
       "    </tr>\n",
       "    <tr>\n",
       "      <th>6</th>\n",
       "      <td>80314.0</td>\n",
       "      <td>registration</td>\n",
       "      <td>NaN</td>\n",
       "      <td>2018-01-01 14:42:58</td>\n",
       "      <td>NaN</td>\n",
       "      <td>27838</td>\n",
       "      <td>NaN</td>\n",
       "      <td>NaN</td>\n",
       "    </tr>\n",
       "    <tr>\n",
       "      <th>27</th>\n",
       "      <td>80335.0</td>\n",
       "      <td>registration</td>\n",
       "      <td>NaN</td>\n",
       "      <td>2018-01-02 00:13:22</td>\n",
       "      <td>NaN</td>\n",
       "      <td>27844</td>\n",
       "      <td>NaN</td>\n",
       "      <td>NaN</td>\n",
       "    </tr>\n",
       "    <tr>\n",
       "      <th>37</th>\n",
       "      <td>80345.0</td>\n",
       "      <td>registration</td>\n",
       "      <td>NaN</td>\n",
       "      <td>2018-01-02 06:05:02</td>\n",
       "      <td>NaN</td>\n",
       "      <td>27848</td>\n",
       "      <td>NaN</td>\n",
       "      <td>NaN</td>\n",
       "    </tr>\n",
       "  </tbody>\n",
       "</table>\n",
       "</div>"
      ],
      "text/plain": [
       "    event_id    event_type selected_level          start_time  tutorial_id  \\\n",
       "0    80308.0  registration            NaN 2018-01-01 03:48:40          NaN   \n",
       "5    80313.0  registration            NaN 2018-01-01 14:08:40          NaN   \n",
       "6    80314.0  registration            NaN 2018-01-01 14:42:58          NaN   \n",
       "27   80335.0  registration            NaN 2018-01-02 00:13:22          NaN   \n",
       "37   80345.0  registration            NaN 2018-01-02 06:05:02          NaN   \n",
       "\n",
       "    user_id  purchase_id  amount  \n",
       "0     27832          NaN     NaN  \n",
       "5     27837          NaN     NaN  \n",
       "6     27838          NaN     NaN  \n",
       "27    27844          NaN     NaN  \n",
       "37    27848          NaN     NaN  "
      ]
     },
     "execution_count": 27,
     "metadata": {},
     "output_type": "execute_result"
    }
   ],
   "source": [
    "not_started_tutorial_df.head()"
   ]
  },
  {
   "cell_type": "markdown",
   "metadata": {},
   "source": [
    "Создаем датасет с событем ***`регистрации для 2-й группы:`***"
   ]
  },
  {
   "cell_type": "code",
   "execution_count": 28,
   "metadata": {},
   "outputs": [],
   "source": [
    "not_started_tutorial_registration = not_started_tutorial_df[not_started_tutorial_df['event_type'] == 'registration'].\\\n",
    "    reset_index(drop=True)\n",
    "not_started_tutorial_registration = not_started_tutorial_registration[[\"user_id\", \"start_time\"]].rename(\n",
    "    columns={\"start_time\": \"registration_time\"})"
   ]
  },
  {
   "cell_type": "markdown",
   "metadata": {},
   "source": [
    "Создаем датасет с событем  ***`выбор пакетов вопросов для 2-й группы`***:"
   ]
  },
  {
   "cell_type": "code",
   "execution_count": 29,
   "metadata": {},
   "outputs": [],
   "source": [
    "not_started_tutorial_level_choice = not_started_tutorial_df[not_started_tutorial_df['event_type'] == 'level_choice'].\\\n",
    "    reset_index(drop=True)\n",
    "not_started_tutorial_level_choice = not_started_tutorial_level_choice[[\"user_id\", \"start_time\"]].rename(\n",
    "    columns={\"start_time\": \"level_choice_time\"})"
   ]
  },
  {
   "cell_type": "markdown",
   "metadata": {},
   "source": [
    "Переходим к объединению датафреймов событий ***регистрации и выбора уровня сложности*** для 2-й группы: "
   ]
  },
  {
   "cell_type": "code",
   "execution_count": 30,
   "metadata": {},
   "outputs": [
    {
     "data": {
      "text/html": [
       "<div>\n",
       "<style scoped>\n",
       "    .dataframe tbody tr th:only-of-type {\n",
       "        vertical-align: middle;\n",
       "    }\n",
       "\n",
       "    .dataframe tbody tr th {\n",
       "        vertical-align: top;\n",
       "    }\n",
       "\n",
       "    .dataframe thead th {\n",
       "        text-align: right;\n",
       "    }\n",
       "</style>\n",
       "<table border=\"1\" class=\"dataframe\">\n",
       "  <thead>\n",
       "    <tr style=\"text-align: right;\">\n",
       "      <th></th>\n",
       "      <th>user_id</th>\n",
       "      <th>registration_time</th>\n",
       "      <th>level_choice_time</th>\n",
       "    </tr>\n",
       "  </thead>\n",
       "  <tbody>\n",
       "    <tr>\n",
       "      <th>0</th>\n",
       "      <td>27921</td>\n",
       "      <td>2018-01-05 16:13:17</td>\n",
       "      <td>2018-01-06 01:58:40</td>\n",
       "    </tr>\n",
       "    <tr>\n",
       "      <th>1</th>\n",
       "      <td>28033</td>\n",
       "      <td>2018-01-08 16:52:19</td>\n",
       "      <td>2018-01-08 17:06:39</td>\n",
       "    </tr>\n",
       "    <tr>\n",
       "      <th>2</th>\n",
       "      <td>28145</td>\n",
       "      <td>2018-01-10 18:12:47</td>\n",
       "      <td>2018-01-11 00:04:20</td>\n",
       "    </tr>\n",
       "    <tr>\n",
       "      <th>3</th>\n",
       "      <td>28464</td>\n",
       "      <td>2018-01-17 04:34:00</td>\n",
       "      <td>2018-01-17 06:46:05</td>\n",
       "    </tr>\n",
       "    <tr>\n",
       "      <th>4</th>\n",
       "      <td>28865</td>\n",
       "      <td>2018-01-23 12:48:01</td>\n",
       "      <td>2018-01-23 14:21:24</td>\n",
       "    </tr>\n",
       "  </tbody>\n",
       "</table>\n",
       "</div>"
      ],
      "text/plain": [
       "   user_id   registration_time   level_choice_time\n",
       "0    27921 2018-01-05 16:13:17 2018-01-06 01:58:40\n",
       "1    28033 2018-01-08 16:52:19 2018-01-08 17:06:39\n",
       "2    28145 2018-01-10 18:12:47 2018-01-11 00:04:20\n",
       "3    28464 2018-01-17 04:34:00 2018-01-17 06:46:05\n",
       "4    28865 2018-01-23 12:48:01 2018-01-23 14:21:24"
      ]
     },
     "execution_count": 30,
     "metadata": {},
     "output_type": "execute_result"
    }
   ],
   "source": [
    "merged_n1 = not_started_tutorial_registration.merge(not_started_tutorial_level_choice,\\\n",
    "                                                    on = 'user_id', how = 'inner')\n",
    "merged_n1.head()"
   ]
  },
  {
   "cell_type": "code",
   "execution_count": 31,
   "metadata": {},
   "outputs": [
    {
     "name": "stdout",
     "output_type": "stream",
     "text": [
      "Cреднее время между регистрацией и выбором уровня сложности для 2-й группы составляет:\n",
      " 0 days 05:15:33.122448979\n"
     ]
    }
   ],
   "source": [
    "merged_n1['timedelta'] = (merged_n1['level_choice_time'] - merged_n1['registration_time'])\n",
    "print('Cреднее время между регистрацией и выбором уровня сложности для 2-й группы составляет:\\n',\n",
    "      merged_n1['timedelta'].mean())"
   ]
  },
  {
   "cell_type": "markdown",
   "metadata": {},
   "source": [
    "Создаем датасет с событем  ***`выбор пакетов вопросов для 2-й группы`***:"
   ]
  },
  {
   "cell_type": "code",
   "execution_count": 32,
   "metadata": {},
   "outputs": [],
   "source": [
    "not_started_tutorial_pack_choice = not_started_tutorial_df[not_started_tutorial_df['event_type'] == 'pack_choice'].\\\n",
    "    reset_index(drop=True)\n",
    "not_started_tutorial_pack_choice = not_started_tutorial_pack_choice[[\"user_id\", \"start_time\"]].rename(\n",
    "    columns={\"start_time\": \"pack_choice_time\"})"
   ]
  },
  {
   "cell_type": "markdown",
   "metadata": {},
   "source": [
    "Переходим к объединению датафреймов событий ***регистрации и выбора пакетов вопросов*** для 2-й группы: "
   ]
  },
  {
   "cell_type": "code",
   "execution_count": 33,
   "metadata": {},
   "outputs": [
    {
     "data": {
      "text/html": [
       "<div>\n",
       "<style scoped>\n",
       "    .dataframe tbody tr th:only-of-type {\n",
       "        vertical-align: middle;\n",
       "    }\n",
       "\n",
       "    .dataframe tbody tr th {\n",
       "        vertical-align: top;\n",
       "    }\n",
       "\n",
       "    .dataframe thead th {\n",
       "        text-align: right;\n",
       "    }\n",
       "</style>\n",
       "<table border=\"1\" class=\"dataframe\">\n",
       "  <thead>\n",
       "    <tr style=\"text-align: right;\">\n",
       "      <th></th>\n",
       "      <th>user_id</th>\n",
       "      <th>registration_time</th>\n",
       "      <th>pack_choice_time</th>\n",
       "    </tr>\n",
       "  </thead>\n",
       "  <tbody>\n",
       "    <tr>\n",
       "      <th>0</th>\n",
       "      <td>28033</td>\n",
       "      <td>2018-01-08 16:52:19</td>\n",
       "      <td>2018-01-08 17:11:52</td>\n",
       "    </tr>\n",
       "    <tr>\n",
       "      <th>1</th>\n",
       "      <td>28145</td>\n",
       "      <td>2018-01-10 18:12:47</td>\n",
       "      <td>2018-01-11 00:12:15</td>\n",
       "    </tr>\n",
       "    <tr>\n",
       "      <th>2</th>\n",
       "      <td>28865</td>\n",
       "      <td>2018-01-23 12:48:01</td>\n",
       "      <td>2018-01-23 14:28:33</td>\n",
       "    </tr>\n",
       "    <tr>\n",
       "      <th>3</th>\n",
       "      <td>28928</td>\n",
       "      <td>2018-01-24 04:55:27</td>\n",
       "      <td>2018-01-24 14:06:56</td>\n",
       "    </tr>\n",
       "    <tr>\n",
       "      <th>4</th>\n",
       "      <td>29066</td>\n",
       "      <td>2018-01-26 07:20:10</td>\n",
       "      <td>2018-01-26 08:40:14</td>\n",
       "    </tr>\n",
       "  </tbody>\n",
       "</table>\n",
       "</div>"
      ],
      "text/plain": [
       "   user_id   registration_time    pack_choice_time\n",
       "0    28033 2018-01-08 16:52:19 2018-01-08 17:11:52\n",
       "1    28145 2018-01-10 18:12:47 2018-01-11 00:12:15\n",
       "2    28865 2018-01-23 12:48:01 2018-01-23 14:28:33\n",
       "3    28928 2018-01-24 04:55:27 2018-01-24 14:06:56\n",
       "4    29066 2018-01-26 07:20:10 2018-01-26 08:40:14"
      ]
     },
     "execution_count": 33,
     "metadata": {},
     "output_type": "execute_result"
    }
   ],
   "source": [
    "merged_n2 = not_started_tutorial_registration.merge(not_started_tutorial_pack_choice,\\\n",
    "                                                    on = 'user_id', how = 'inner')\n",
    "merged_n2.head()"
   ]
  },
  {
   "cell_type": "code",
   "execution_count": 34,
   "metadata": {},
   "outputs": [
    {
     "name": "stdout",
     "output_type": "stream",
     "text": [
      "Cреднее время между регистрацией и выбором пакетов вопросов для 2-й группы составляет:\n",
      " 0 days 05:07:16.175675675\n"
     ]
    }
   ],
   "source": [
    "merged_n2['timedelta'] = (merged_n2['pack_choice_time'] - merged_n2['registration_time'])\n",
    "print('Cреднее время между регистрацией и выбором пакетов вопросов для 2-й группы составляет:\\n',\\\n",
    "      merged_n2['timedelta'].mean())"
   ]
  },
  {
   "cell_type": "markdown",
   "metadata": {},
   "source": [
    "Создаем датасет с событем  ***`покупки для 2-й группы`***:"
   ]
  },
  {
   "cell_type": "code",
   "execution_count": 35,
   "metadata": {},
   "outputs": [],
   "source": [
    "not_started_tutorial_purchase = not_started_tutorial_df[not_started_tutorial_df['event_type'] == 'purchase']\n",
    "not_started_tutorial_purchase = not_started_tutorial_purchase[[\"user_id\", \"start_time\"]].rename(\n",
    "    columns={\"start_time\": \"purchase_time\"})"
   ]
  },
  {
   "cell_type": "code",
   "execution_count": 36,
   "metadata": {},
   "outputs": [
    {
     "data": {
      "text/html": [
       "<div>\n",
       "<style scoped>\n",
       "    .dataframe tbody tr th:only-of-type {\n",
       "        vertical-align: middle;\n",
       "    }\n",
       "\n",
       "    .dataframe tbody tr th {\n",
       "        vertical-align: top;\n",
       "    }\n",
       "\n",
       "    .dataframe thead th {\n",
       "        text-align: right;\n",
       "    }\n",
       "</style>\n",
       "<table border=\"1\" class=\"dataframe\">\n",
       "  <thead>\n",
       "    <tr style=\"text-align: right;\">\n",
       "      <th></th>\n",
       "      <th>user_id</th>\n",
       "      <th>registration_time</th>\n",
       "      <th>purchase_time</th>\n",
       "    </tr>\n",
       "  </thead>\n",
       "  <tbody>\n",
       "    <tr>\n",
       "      <th>0</th>\n",
       "      <td>28033</td>\n",
       "      <td>2018-01-08 16:52:19</td>\n",
       "      <td>2018-01-16 05:08:41</td>\n",
       "    </tr>\n",
       "    <tr>\n",
       "      <th>1</th>\n",
       "      <td>28928</td>\n",
       "      <td>2018-01-24 04:55:27</td>\n",
       "      <td>2018-01-29 14:47:12</td>\n",
       "    </tr>\n",
       "    <tr>\n",
       "      <th>2</th>\n",
       "      <td>31161</td>\n",
       "      <td>2018-03-04 21:30:50</td>\n",
       "      <td>2018-03-09 14:10:27</td>\n",
       "    </tr>\n",
       "    <tr>\n",
       "      <th>3</th>\n",
       "      <td>32975</td>\n",
       "      <td>2018-03-26 20:17:00</td>\n",
       "      <td>2018-04-01 08:53:29</td>\n",
       "    </tr>\n",
       "    <tr>\n",
       "      <th>4</th>\n",
       "      <td>33253</td>\n",
       "      <td>2018-03-30 13:48:43</td>\n",
       "      <td>2018-04-06 03:49:04</td>\n",
       "    </tr>\n",
       "  </tbody>\n",
       "</table>\n",
       "</div>"
      ],
      "text/plain": [
       "   user_id   registration_time       purchase_time\n",
       "0    28033 2018-01-08 16:52:19 2018-01-16 05:08:41\n",
       "1    28928 2018-01-24 04:55:27 2018-01-29 14:47:12\n",
       "2    31161 2018-03-04 21:30:50 2018-03-09 14:10:27\n",
       "3    32975 2018-03-26 20:17:00 2018-04-01 08:53:29\n",
       "4    33253 2018-03-30 13:48:43 2018-04-06 03:49:04"
      ]
     },
     "execution_count": 36,
     "metadata": {},
     "output_type": "execute_result"
    }
   ],
   "source": [
    "merged_n3 = not_started_tutorial_registration.merge(not_started_tutorial_purchase,\\\n",
    "                                                    on = 'user_id', how = 'inner')\n",
    "merged_n3.head()"
   ]
  },
  {
   "cell_type": "code",
   "execution_count": 37,
   "metadata": {},
   "outputs": [
    {
     "name": "stdout",
     "output_type": "stream",
     "text": [
      "Cреднее время между регистрацией и оплатой для 2-й группы составляет:\n",
      " 4 days 09:06:01.909090909\n"
     ]
    }
   ],
   "source": [
    "merged_n3['timedelta'] = (merged_n3['purchase_time'] - merged_n3['registration_time'])\n",
    "print('Cреднее время между регистрацией и оплатой для 2-й группы составляет:\\n',merged_n3['timedelta'].mean())"
   ]
  },
  {
   "cell_type": "markdown",
   "metadata": {},
   "source": [
    "*И наконец подсчитаем **разницу** между средним временем прохождения всех этапов 1 и 2 групп.*"
   ]
  },
  {
   "cell_type": "code",
   "execution_count": 38,
   "metadata": {},
   "outputs": [
    {
     "name": "stdout",
     "output_type": "stream",
     "text": [
      "Разница среднего времени от момента регистрации до выбора уровня сложности\n",
      "между двумя группами равна:\n",
      " 0 days 01:50:03.732370378\n"
     ]
    }
   ],
   "source": [
    "dif_registration_level_choice = (merged_1['timedelta'].mean())-(merged_n1['timedelta'].mean())\n",
    "print('Разница среднего времени от момента регистрации до выбора уровня сложности\\nмежду двумя группами равна:\\n',\\\n",
    "      dif_registration_level_choice)"
   ]
  },
  {
   "cell_type": "code",
   "execution_count": 39,
   "metadata": {},
   "outputs": [
    {
     "name": "stdout",
     "output_type": "stream",
     "text": [
      "Разница среднего времени от события регистрации до выбора уровня пакетов вопросов\n",
      "между двумя группами равна:\n",
      " 0 days 02:03:19.484486612\n"
     ]
    }
   ],
   "source": [
    "dif_registration_pack_choice = (merged_2['timedelta'].mean())-(merged_n2['timedelta'].mean())\n",
    "print('Разница среднего времени от события регистрации до выбора уровня пакетов вопросов\\\n",
    "\\nмежду двумя группами равна:\\n',\n",
    "dif_registration_pack_choice)"
   ]
  },
  {
   "cell_type": "code",
   "execution_count": 40,
   "metadata": {},
   "outputs": [
    {
     "name": "stdout",
     "output_type": "stream",
     "text": [
      "Разница среднего времени от события регистрации до покупки\n",
      "между двумя группами равна:\n",
      " 0 days 08:35:58.661682478\n"
     ]
    }
   ],
   "source": [
    "dif_registration_purchase = (merged_n3['timedelta'].mean()) - (merged_3['timedelta'].mean())\n",
    "print('Разница среднего времени от события регистрации до покупки\\\n",
    "\\nмежду двумя группами равна:\\n',\n",
    "dif_registration_purchase)"
   ]
  },
  {
   "cell_type": "markdown",
   "metadata": {},
   "source": [
    "Для удобства меняем значения user_id на отметки:  \n",
    "* __`'yes'`__- пользователи, кто прошел обучение   \n",
    "* __`'no'`__ - пользователи, кто не начинал обучение "
   ]
  },
  {
   "cell_type": "code",
   "execution_count": 41,
   "metadata": {},
   "outputs": [
    {
     "data": {
      "text/plain": [
       "<Axes: title={'center': 'Время прохождения различных этапов для двух групп'}, xlabel='user_id'>"
      ]
     },
     "execution_count": 41,
     "metadata": {},
     "output_type": "execute_result"
    },
    {
     "data": {
      "image/png": "[encoded data removed]",
      "text/plain": [
       "<Figure size 640x480 with 1 Axes>"
      ]
     },
     "metadata": {},
     "output_type": "display_data"
    }
   ],
   "source": [
    "#для удобства переиминуем строки с id \n",
    "merged_3['user_id']='yes'\n",
    "merged_n3['user_id']='no'\n",
    "#объединяем датасеты для выведения в график\n",
    "total=pd.concat([merged_3,merged_n3], sort=False) \n",
    "#переводим данные со временем в минуты для корректной визуализации\n",
    "total['timedelta']=total['timedelta']/pd.Timedelta('1 minute') \n",
    "total.groupby(by = ['user_id'])['timedelta'].mean().plot(kind = 'bar', \n",
    "                                                    grid= True, \n",
    "                                                    colormap = 'plasma', \n",
    "                                                    title = 'Время прохождения различных этапов для двух групп') "
   ]
  },
  {
   "cell_type": "markdown",
   "metadata": {},
   "source": [
    "# ВЫВОДЫ ДЛЯ ЗАДАЧИ №1 #\n"
   ]
  },
  {
   "cell_type": "markdown",
   "metadata": {},
   "source": [
    ">Таблица со показателями среднего значения прохождения различных этапов для 1-й и 2-й групп* соответственно: \n",
    "---\n",
    "*Напомню, что под 1-ой группой подразумеваются пользователи, закончившие обучение. Под 2-ой группой пользователи, не начинавшие обучение\n",
    "\n",
    "---\n",
    "|      | Первая группа               | Вторая группа | Разница |\n",
    "| :------------- |:------------------:|:------------------:|:------------------:|\n",
    "|Среднее время от этапа ***регистрации до выбора уровня сложности*** | 07ч. 05мин. | 05ч. 15мин.  | 1ч. 50мин. |\n",
    "|Среднее время от этапа ***регистрации до выбора пакетов вопросов***| 07ч. 10мин. | 05ч. 07мин. | 2ч. 03мин.|\n",
    "|Среднее время от этапа ***регистрации до оплаты***| 4дня 30мин.| 4дня 09ч. 06мин.| 8ч. 36мин.|"
   ]
  },
  {
   "cell_type": "markdown",
   "metadata": {},
   "source": [
    "> ***Целью*** данного анализа было выявить насколько обучение сокращает время прохождения всех этапов. И ответить на вопрос «Отличается ли время прохождения различных этапов у пользователей, которые прошли обучение, и пользователей, не начинавших обучение?» \n",
    "---\n",
    "\n",
    " Мы видим, что в первых двух случаях, а именно с момента регистрации до выбора уровня сложности и выбора пакетов вопросов, пользователи из первой группы затратили больше времени, чем пользователи из второй группы. \n",
    " Возможно это связано с прохождением этапов обучения, но для окончательного ответа потребуется дополнительный анализ. \n",
    " \n",
    " А вот в случае со временем с момента регистрации до покупки, первая группа показала большую заинтересованность, тк справилась с этим этапом быстрее второй группы на 8часов 36минут. \n",
    " Так же хочу отметить медианное значение для первой группы. У 50% пользователей с момента регистрации до оплаты проходит 3дня 19часов 5 минут. Это на 5часов 25минут меньше среднего показателя этого же параметра.   \n",
    " И если сравнить медианное значение двух групп, то получается, что 50% пользователей, кто прошел обучение с момента регистрации доходят до этапа оплаты на 16ч. 24мин. быстрее, чем 50% пользователей из группы, кто не начинал обучение. \n",
    " \n",
    " Таким образом можно сказать, что да, **время прохождения различных этапов у пользователей, которые прошли обучение, и пользователей, не начинавших обучение отличается.**  \n",
    " Событие обучения ускоряет процесс покупки платных пакетов вопросов и **благополучно влияет на выбор пользователя в сторону оплаты.** Можно предположить, что этап обучения делает клиента увернее в своих возможностях, тем самым **подталкивает**  приобрести дополнительные пакеты с вопросами.\n",
    " \n",
    " \n",
    " А факт того, что пользователь **не начинал обучение наоборот оттягивает** время покупки по сравнению с теми, кто начинал обучение. "
   ]
  },
  {
   "cell_type": "markdown",
   "metadata": {},
   "source": [
    "# РЕШЕНИЕ ЗАДАЧИ №2 \n",
    "---\n",
    "### Необходимо посмотреть, существует ли зависимость между вероятностью оплаты вопросов и количеством обучений, которые начинал или завершал пользователь и доказать, что успешное обучение само по себе влияет на оплату, и без разницы, каким этапом оно шло.\n",
    "---\n",
    "## Алгоритм действий: ##\n",
    "   \n",
    " #### Делим пользователей на 6 групп: ####\n",
    "\n",
    "1. Пользователи, которые начали, но не закончили обучение.\n",
    "2. Пользователи, которые закончили обучение только 1 раз.\n",
    "3. Пользователи, которые закончили обучение 2-3 раза.\n",
    "4. Пользователи, которые закончили обучение 4-5 раз.\n",
    "5. Пользователи, которые закончили обучение 6-7 раз.\n",
    "6. Пользователи, которые закончили обучение 8-9 раз.\n",
    "\n",
    "#### Считаем процент пользователей, кто совершил покупку для каждой группы. \n",
    "\n",
    "#### Смотрим разницу между группами. "
   ]
  },
  {
   "cell_type": "markdown",
   "metadata": {},
   "source": [
    "Воспользуемся нашим датафреймом, где мы собрали все события: "
   ]
  },
  {
   "cell_type": "code",
   "execution_count": 42,
   "metadata": {},
   "outputs": [
    {
     "data": {
      "text/html": [
       "<div>\n",
       "<style scoped>\n",
       "    .dataframe tbody tr th:only-of-type {\n",
       "        vertical-align: middle;\n",
       "    }\n",
       "\n",
       "    .dataframe tbody tr th {\n",
       "        vertical-align: top;\n",
       "    }\n",
       "\n",
       "    .dataframe thead th {\n",
       "        text-align: right;\n",
       "    }\n",
       "</style>\n",
       "<table border=\"1\" class=\"dataframe\">\n",
       "  <thead>\n",
       "    <tr style=\"text-align: right;\">\n",
       "      <th></th>\n",
       "      <th>event_id</th>\n",
       "      <th>event_type</th>\n",
       "      <th>selected_level</th>\n",
       "      <th>start_time</th>\n",
       "      <th>tutorial_id</th>\n",
       "      <th>user_id</th>\n",
       "      <th>purchase_id</th>\n",
       "      <th>amount</th>\n",
       "    </tr>\n",
       "  </thead>\n",
       "  <tbody>\n",
       "    <tr>\n",
       "      <th>0</th>\n",
       "      <td>80308.0</td>\n",
       "      <td>registration</td>\n",
       "      <td>NaN</td>\n",
       "      <td>2018-01-01 03:48:40</td>\n",
       "      <td>NaN</td>\n",
       "      <td>27832</td>\n",
       "      <td>NaN</td>\n",
       "      <td>NaN</td>\n",
       "    </tr>\n",
       "    <tr>\n",
       "      <th>1</th>\n",
       "      <td>80309.0</td>\n",
       "      <td>registration</td>\n",
       "      <td>NaN</td>\n",
       "      <td>2018-01-01 04:07:25</td>\n",
       "      <td>NaN</td>\n",
       "      <td>27833</td>\n",
       "      <td>NaN</td>\n",
       "      <td>NaN</td>\n",
       "    </tr>\n",
       "    <tr>\n",
       "      <th>2</th>\n",
       "      <td>80310.0</td>\n",
       "      <td>registration</td>\n",
       "      <td>NaN</td>\n",
       "      <td>2018-01-01 08:35:10</td>\n",
       "      <td>NaN</td>\n",
       "      <td>27834</td>\n",
       "      <td>NaN</td>\n",
       "      <td>NaN</td>\n",
       "    </tr>\n",
       "    <tr>\n",
       "      <th>3</th>\n",
       "      <td>80311.0</td>\n",
       "      <td>registration</td>\n",
       "      <td>NaN</td>\n",
       "      <td>2018-01-01 11:54:47</td>\n",
       "      <td>NaN</td>\n",
       "      <td>27835</td>\n",
       "      <td>NaN</td>\n",
       "      <td>NaN</td>\n",
       "    </tr>\n",
       "    <tr>\n",
       "      <th>4</th>\n",
       "      <td>80312.0</td>\n",
       "      <td>registration</td>\n",
       "      <td>NaN</td>\n",
       "      <td>2018-01-01 13:28:07</td>\n",
       "      <td>NaN</td>\n",
       "      <td>27836</td>\n",
       "      <td>NaN</td>\n",
       "      <td>NaN</td>\n",
       "    </tr>\n",
       "  </tbody>\n",
       "</table>\n",
       "</div>"
      ],
      "text/plain": [
       "   event_id    event_type selected_level          start_time  tutorial_id  \\\n",
       "0   80308.0  registration            NaN 2018-01-01 03:48:40          NaN   \n",
       "1   80309.0  registration            NaN 2018-01-01 04:07:25          NaN   \n",
       "2   80310.0  registration            NaN 2018-01-01 08:35:10          NaN   \n",
       "3   80311.0  registration            NaN 2018-01-01 11:54:47          NaN   \n",
       "4   80312.0  registration            NaN 2018-01-01 13:28:07          NaN   \n",
       "\n",
       "   user_id  purchase_id  amount  \n",
       "0    27832          NaN     NaN  \n",
       "1    27833          NaN     NaN  \n",
       "2    27834          NaN     NaN  \n",
       "3    27835          NaN     NaN  \n",
       "4    27836          NaN     NaN  "
      ]
     },
     "execution_count": 42,
     "metadata": {},
     "output_type": "execute_result"
    }
   ],
   "source": [
    "total_events_df.head()"
   ]
  },
  {
   "cell_type": "markdown",
   "metadata": {},
   "source": [
    "*Для начала посмотрим еще раз на количество **всех пользователей** (не зависимо прошли они обучение или нет) в нашем датафрейме.*"
   ]
  },
  {
   "cell_type": "code",
   "execution_count": 43,
   "metadata": {},
   "outputs": [
    {
     "data": {
      "text/plain": [
       "19926"
      ]
     },
     "execution_count": 43,
     "metadata": {},
     "output_type": "execute_result"
    }
   ],
   "source": [
    "#берем из общего датасета уникальное количество пользователей\n",
    "total_users=total_events_df['user_id'].nunique()  \n",
    "total_users"
   ]
  },
  {
   "cell_type": "markdown",
   "metadata": {},
   "source": [
    "*Приступим к формированию **1 группы**. Нам нужны пользователи, **которые начали обучение, но не прошли его** ни разу, т.е. пользователи у которых есть событие начала обучения, но нет события окончания обучения.* "
   ]
  },
  {
   "cell_type": "code",
   "execution_count": 44,
   "metadata": {},
   "outputs": [],
   "source": [
    "#создаем список с пользователями, которые закончили обучение\n",
    "finished_tutorial = total_events_df[total_events_df['event_type'] == 'tutorial_finish']['user_id'].unique() \n",
    "#создаем множество с пользователями, которые начали обучение\n",
    "users_with_start=set(total_events_df[total_events_df.event_type=='tutorial_start']['user_id'])\n",
    "#убираем из сета с пользователей, завершивших обучение, и оставляем только тех, \n",
    "#кто стартовал, но не закончил \n",
    "grouped_1 = users_with_start.difference(set(finished_tutorial))"
   ]
  },
  {
   "cell_type": "markdown",
   "metadata": {},
   "source": [
    "*__Формируем датафреймы__ с группами пользователей, которые прошли обучение:* "
   ]
  },
  {
   "cell_type": "code",
   "execution_count": 45,
   "metadata": {},
   "outputs": [],
   "source": [
    "#из общего датафрейма убираем ненужные нам столбцы и оставляем только пользователей и тип событий\n",
    "total=total_events_df.drop(total_events_df.columns[[0,2,3,4,6,7]],axis=1) \n",
    "#фильтруем датафрейм и оставлям только пользователей с событием окончания обучения\n",
    "total_finish_users=total[(total['event_type']=='tutorial_finish')].reset_index(drop=True)"
   ]
  },
  {
   "cell_type": "markdown",
   "metadata": {},
   "source": [
    "*Давайте посмотрим какое **максимальное** количество раз пользователь прошел обучение в нашей игре для того что бы в дальнейшем **корректно** разбить всех на группы:\n",
    "Заодно для удобства я **переиминую столбец** с событиями, ведь теперь там будет содержаться информация о **количестве** пройденных обучений одним пользователем.*"
   ]
  },
  {
   "cell_type": "code",
   "execution_count": 46,
   "metadata": {},
   "outputs": [
    {
     "data": {
      "text/plain": [
       "9"
      ]
     },
     "execution_count": 46,
     "metadata": {},
     "output_type": "execute_result"
    }
   ],
   "source": [
    "#переиминовываем столбец с событием\n",
    "grouped_df =total_finish_users.rename(columns={'event_type':'count_tutorial'})\n",
    "#группируем столбец по пользователю\n",
    "grouped_df=grouped_df.groupby(['user_id'], as_index=False).count()\n",
    "grouped_df.count_tutorial.max()"
   ]
  },
  {
   "cell_type": "markdown",
   "metadata": {},
   "source": [
    "*Итак, мы узнали, что **максимальное** количество полных обучений на пользователя равно **9**.*\n",
    "\n",
    "*Я решила разделить всех пользователей на **6 групп**. Об этом я писала выше в **АЛГОРИТМЕ действий**.*\n",
    "\n",
    "*Приступим к **формированию** оставшихся групп:* "
   ]
  },
  {
   "cell_type": "code",
   "execution_count": 47,
   "metadata": {},
   "outputs": [],
   "source": [
    "#выставляем фильтр на нужное количество обучений и записываем получившихся пользователей во множество\n",
    "\n",
    "#формируем 2-ю группу:\n",
    "grouped_2=set(grouped_df[grouped_df['count_tutorial']==1]['user_id'])\n",
    "\n",
    "#формируем 3-ю группу:\n",
    "grouped_3=set(grouped_df[(grouped_df['count_tutorial']==2)|(grouped_df['count_tutorial']==3)]['user_id'])\n",
    "\n",
    "#формируем 4-ю группу:\n",
    "grouped_4=set(grouped_df[(grouped_df['count_tutorial']==4)|(grouped_df['count_tutorial']==5)]['user_id'])\n",
    "\n",
    "#формируем 5-ю группу:\n",
    "grouped_5=set(grouped_df[(grouped_df['count_tutorial']==6)|(grouped_df['count_tutorial']==7)]['user_id'])\n",
    "\n",
    "#формируем 6-ю группу:\n",
    "grouped_6=set(grouped_df[(grouped_df['count_tutorial']==8)|(grouped_df['count_tutorial']==9)]['user_id'])"
   ]
  },
  {
   "cell_type": "markdown",
   "metadata": {},
   "source": [
    "### Настало время подсчитать процент пользователей в каждой группе, совершившей покупки."
   ]
  },
  {
   "cell_type": "code",
   "execution_count": 48,
   "metadata": {},
   "outputs": [
    {
     "name": "stdout",
     "output_type": "stream",
     "text": [
      "Общее количество пользователей в 1-й группе:\n",
      " 1608\n",
      "Число пользователей, которые оплатили тренировки (от числа пользователей 1-й группы):\n",
      " 131\n",
      "Процент пользователей, которые оплатили тренировки (от числа пользователей 1-й группы):\n",
      " 8.15%\n"
     ]
    }
   ],
   "source": [
    "#подсчет для 1-й группы\n",
    "#считаем число пользователей, которые оплатили пакет вопросов, в 1-й группе\n",
    "count_1 = len(purchases_df[purchases_df['user_id'].isin(grouped_1)]['user_id'].unique())\n",
    "#делим число оплативших пользователей на число всех пользователей данной группы, что бы узнать процент оплативших\n",
    "percent_1 = (count_1/len(grouped_1))\n",
    "print('Общее количество пользователей в 1-й группе:\\n',len(grouped_1))\n",
    "print('Число пользователей, которые оплатили тренировки (от числа пользователей 1-й группы):\\n',count_1)\n",
    "print ('Процент пользователей, которые оплатили тренировки (от числа пользователей 1-й группы):\\n {:.2%}'.\\\n",
    "       format(percent_1))"
   ]
  },
  {
   "cell_type": "markdown",
   "metadata": {},
   "source": [
    "*Проделываем все тоже самое с **другими группами**:*"
   ]
  },
  {
   "cell_type": "code",
   "execution_count": 49,
   "metadata": {},
   "outputs": [
    {
     "name": "stdout",
     "output_type": "stream",
     "text": [
      "Общее количество пользователей в 2-й группе:\n",
      " 8015\n",
      "Число пользователей, которые оплатили тренировки (от числа пользователей 2-й группы):\n",
      " 1143\n",
      "Процент пользователей, которые оплатили тренировки (от числа пользователей 2-й группы):\n",
      " 14.26%\n"
     ]
    }
   ],
   "source": [
    "#подсчет для 2-й группы\n",
    "count_2 = len(purchases_df[purchases_df['user_id'].isin(grouped_2)]['user_id'].unique())\n",
    "percent_2 = (count_2/len(grouped_2))\n",
    "print('Общее количество пользователей в 2-й группе:\\n',len(grouped_2))\n",
    "print('Число пользователей, которые оплатили тренировки (от числа пользователей 2-й группы):\\n',count_2)\n",
    "print ('Процент пользователей, которые оплатили тренировки (от числа пользователей 2-й группы):\\n {:.2%}'.\\\n",
    "       format(percent_2))"
   ]
  },
  {
   "cell_type": "code",
   "execution_count": 50,
   "metadata": {},
   "outputs": [
    {
     "name": "stdout",
     "output_type": "stream",
     "text": [
      "Общее количество пользователей в 3-й группе:\n",
      " 1666\n",
      "Число пользователей, которые оплатили тренировки (от числа пользователей 3-й группы):\n",
      " 226\n",
      "Процент пользователей, которые оплатили тренировки (от числа пользователей 3-й группы):\n",
      "13.57%\n"
     ]
    }
   ],
   "source": [
    "#подсчет для 3-й группы\n",
    "count_3 = len(purchases_df[purchases_df['user_id'].isin(grouped_3)]['user_id'].unique())\n",
    "percent_3 = (count_3/len(grouped_3))\n",
    "print('Общее количество пользователей в 3-й группе:\\n',len(grouped_3))\n",
    "print('Число пользователей, которые оплатили тренировки (от числа пользователей 3-й группы):\\n',count_3)\n",
    "print ('Процент пользователей, которые оплатили тренировки (от числа пользователей 3-й группы):\\n{:.2%}'.\\\n",
    "       format(percent_3))"
   ]
  },
  {
   "cell_type": "code",
   "execution_count": 51,
   "metadata": {},
   "outputs": [
    {
     "name": "stdout",
     "output_type": "stream",
     "text": [
      "Общее количество пользователей в 4-й группе:\n",
      " 295\n",
      "Число пользователей, которые оплатили тренировки (от числа пользователей 4-й группы):\n",
      " 38\n",
      "Процент пользователей, которые оплатили тренировки (от числа пользователей 4-й группы):\n",
      " 12.88%\n"
     ]
    }
   ],
   "source": [
    "#подсчет для 4-й группы\n",
    "count_4 = len(purchases_df[purchases_df['user_id'].isin(grouped_4)]['user_id'].unique())\n",
    "percent_4 = (count_4/len(grouped_4))\n",
    "print('Общее количество пользователей в 4-й группе:\\n',len(grouped_4))\n",
    "print('Число пользователей, которые оплатили тренировки (от числа пользователей 4-й группы):\\n',count_4)\n",
    "print ('Процент пользователей, которые оплатили тренировки (от числа пользователей 4-й группы):\\n {:.2%}'.\\\n",
    "       format(percent_4))"
   ]
  },
  {
   "cell_type": "code",
   "execution_count": 52,
   "metadata": {},
   "outputs": [
    {
     "name": "stdout",
     "output_type": "stream",
     "text": [
      "Общее количество пользователей в 5-й группе:\n",
      " 198\n",
      "Число пользователей, которые оплатили тренировки (от числа пользователей 5-й группы):\n",
      " 30\n",
      "Процент пользователей, которые оплатили тренировки (от числа пользователей 5-й группы):\n",
      " 15.15%\n"
     ]
    }
   ],
   "source": [
    "#подсчет для 5-й группы\n",
    "count_5 = len(purchases_df[purchases_df['user_id'].isin(grouped_5)]['user_id'].unique())\n",
    "percent_5 = (count_5/len(grouped_5))\n",
    "print('Общее количество пользователей в 5-й группе:\\n',len(grouped_5))\n",
    "print('Число пользователей, которые оплатили тренировки (от числа пользователей 5-й группы):\\n',count_5)\n",
    "print ('Процент пользователей, которые оплатили тренировки (от числа пользователей 5-й группы):\\n {:.2%}'.\\\n",
    "       format(percent_5))"
   ]
  },
  {
   "cell_type": "code",
   "execution_count": 53,
   "metadata": {},
   "outputs": [
    {
     "name": "stdout",
     "output_type": "stream",
     "text": [
      "Общее количество пользователей в 6-й группе:\n",
      " 76\n",
      "Число пользователей, которые оплатили тренировки (от числа пользователей 6-й группы):\n",
      " 10\n",
      "Процент пользователей, которые оплатили тренировки (от числа пользователей 6-й группы):\n",
      " 13.16%\n"
     ]
    }
   ],
   "source": [
    "#подсчет для 6-й группы\n",
    "count_6 = len(purchases_df[purchases_df['user_id'].isin(grouped_6)]['user_id'].unique())\n",
    "percent_6 = (count_6/len(grouped_6))\n",
    "print('Общее количество пользователей в 6-й группе:\\n',len(grouped_6))\n",
    "print('Число пользователей, которые оплатили тренировки (от числа пользователей 6-й группы):\\n',count_6)\n",
    "print ('Процент пользователей, которые оплатили тренировки (от числа пользователей 6-й группы):\\n {:.2%}'.\\\n",
    "       format(percent_6))"
   ]
  },
  {
   "cell_type": "markdown",
   "metadata": {},
   "source": [
    "### Строим диаграмму для визуализации полученных результатов: "
   ]
  },
  {
   "cell_type": "code",
   "execution_count": 54,
   "metadata": {},
   "outputs": [
    {
     "data": {
      "image/png": "[encoded data removed]",
      "text/plain": [
       "<Figure size 800x500 with 1 Axes>"
      ]
     },
     "metadata": {},
     "output_type": "display_data"
    }
   ],
   "source": [
    "frequencies = [0.0815, 0.1426, 0.1357, 0.1288, 0.1515, 0.1316]\n",
    "\n",
    "freq_series = pd.Series(frequencies)\n",
    "\n",
    "y_labels = ['Не прошли обучение, но начали (1-я группа)',\n",
    "            'Прошли обучение 1 раз (2-я группа)',\n",
    "            'Прошли обучение 2-3 раза (3-я группа)', \n",
    "            'Прошли обучение 4-5 раз (4-я группа)', \n",
    "            'Прошли обучение 6-7 раз (5-я группа)', \n",
    "            'Прошли обучение 8-9 раз(6-я группа)']\n",
    "plt.figure(figsize=(8, 5)) \n",
    "ax = freq_series.plot(kind='barh', color='cornflowerblue')\n",
    "ax.set_title('Соотношение долей пользователей, совершивших оплату для каждой группы.')\n",
    "ax.set_xlabel('Процент пользователей, кто совершил покупку')\n",
    "ax.set_yticklabels(y_labels)\n",
    "ax.set_xlim(0, 0.17) \n",
    "rects = ax.patches\n",
    "\n",
    "for rect in rects:\n",
    "    x_value = rect.get_width()\n",
    "    y_value = rect.get_y() + rect.get_height() / 2\n",
    "\n",
    "    space = 5\n",
    "    ha = 'left'\n",
    "\n",
    "    label = \"{:.1%}\".format(x_value)\n",
    "\n",
    "    plt.annotate(\n",
    "        label,                      \n",
    "        (x_value, y_value),         \n",
    "        xytext=(space, 0),          \n",
    "        textcoords=\"offset points\", \n",
    "        va='center',                \n",
    "        ha=ha)      "
   ]
  },
  {
   "cell_type": "markdown",
   "metadata": {},
   "source": [
    "# ВЫВОДЫ ДЛЯ ЗАДАЧИ №2 #"
   ]
  },
  {
   "cell_type": "markdown",
   "metadata": {},
   "source": [
    "> **Целью** данного анализа было доказать, что успешное обучение само по себе влияет на оплату. И ответить на вопрос «Существует ли зависимость между вероятностью оплаты и количеством обучений, которые начинал или завершал пользователь?»\n",
    "\n",
    "На графике нагладно представлено, на сколько группа пользователей, кто не прошел обучение, отстает в показателе. \n",
    "Из первой группы на 6.1 процентных пункта меньше участников заинтересованы в покупке покетов вопросов в сравнении с 2-й группой, кто прошел обучение 1 раз.  \n",
    "А вот если посмотреть на все группы с событиями обучения (5 групп) то видно, что процент варьируется от 13% до 15%.\n",
    "Из этого можно сделать вывод, что само по себе успешное обученение **положительно влияет на оплату и не важно какое количество раз пользователь проходил его.**  \n",
    "Зависимости между вероятностью оплаты и количеством обучений **не наблюдается.** "
   ]
  },
  {
   "cell_type": "markdown",
   "metadata": {},
   "source": [
    "# РЕШЕНИЕ ЗАДАЧИ №3 \n",
    "---\n",
    "### Нам нужно выяснить как часто пользователи начинают обучение после того, как они выбрали уровень сложности.\n",
    "---\n",
    "## Алгоритм действий: ##\n",
    "* Я решила выбрать только тех пользователей, кто содержит события начала обучения и выбора уровня сложности. \n",
    "* Далее я хочу выделить из этой выборки пользователей, кто повторно обратился к обучению после выбора уровня. \n",
    "* Таким образом я найду процент пользователей, кто вернулся к обучению, от общего количества пользователей, выбравших уровень сложности."
   ]
  },
  {
   "cell_type": "code",
   "execution_count": 55,
   "metadata": {},
   "outputs": [
    {
     "data": {
      "text/html": [
       "<div>\n",
       "<style scoped>\n",
       "    .dataframe tbody tr th:only-of-type {\n",
       "        vertical-align: middle;\n",
       "    }\n",
       "\n",
       "    .dataframe tbody tr th {\n",
       "        vertical-align: top;\n",
       "    }\n",
       "\n",
       "    .dataframe thead th {\n",
       "        text-align: right;\n",
       "    }\n",
       "</style>\n",
       "<table border=\"1\" class=\"dataframe\">\n",
       "  <thead>\n",
       "    <tr style=\"text-align: right;\">\n",
       "      <th></th>\n",
       "      <th>event_id</th>\n",
       "      <th>event_type</th>\n",
       "      <th>selected_level</th>\n",
       "      <th>start_time</th>\n",
       "      <th>tutorial_id</th>\n",
       "      <th>user_id</th>\n",
       "      <th>purchase_id</th>\n",
       "      <th>amount</th>\n",
       "    </tr>\n",
       "  </thead>\n",
       "  <tbody>\n",
       "    <tr>\n",
       "      <th>0</th>\n",
       "      <td>80308.0</td>\n",
       "      <td>registration</td>\n",
       "      <td>NaN</td>\n",
       "      <td>2018-01-01 03:48:40</td>\n",
       "      <td>NaN</td>\n",
       "      <td>27832</td>\n",
       "      <td>NaN</td>\n",
       "      <td>NaN</td>\n",
       "    </tr>\n",
       "    <tr>\n",
       "      <th>1</th>\n",
       "      <td>80309.0</td>\n",
       "      <td>registration</td>\n",
       "      <td>NaN</td>\n",
       "      <td>2018-01-01 04:07:25</td>\n",
       "      <td>NaN</td>\n",
       "      <td>27833</td>\n",
       "      <td>NaN</td>\n",
       "      <td>NaN</td>\n",
       "    </tr>\n",
       "    <tr>\n",
       "      <th>2</th>\n",
       "      <td>80310.0</td>\n",
       "      <td>registration</td>\n",
       "      <td>NaN</td>\n",
       "      <td>2018-01-01 08:35:10</td>\n",
       "      <td>NaN</td>\n",
       "      <td>27834</td>\n",
       "      <td>NaN</td>\n",
       "      <td>NaN</td>\n",
       "    </tr>\n",
       "    <tr>\n",
       "      <th>3</th>\n",
       "      <td>80311.0</td>\n",
       "      <td>registration</td>\n",
       "      <td>NaN</td>\n",
       "      <td>2018-01-01 11:54:47</td>\n",
       "      <td>NaN</td>\n",
       "      <td>27835</td>\n",
       "      <td>NaN</td>\n",
       "      <td>NaN</td>\n",
       "    </tr>\n",
       "    <tr>\n",
       "      <th>4</th>\n",
       "      <td>80312.0</td>\n",
       "      <td>registration</td>\n",
       "      <td>NaN</td>\n",
       "      <td>2018-01-01 13:28:07</td>\n",
       "      <td>NaN</td>\n",
       "      <td>27836</td>\n",
       "      <td>NaN</td>\n",
       "      <td>NaN</td>\n",
       "    </tr>\n",
       "  </tbody>\n",
       "</table>\n",
       "</div>"
      ],
      "text/plain": [
       "   event_id    event_type selected_level          start_time  tutorial_id  \\\n",
       "0   80308.0  registration            NaN 2018-01-01 03:48:40          NaN   \n",
       "1   80309.0  registration            NaN 2018-01-01 04:07:25          NaN   \n",
       "2   80310.0  registration            NaN 2018-01-01 08:35:10          NaN   \n",
       "3   80311.0  registration            NaN 2018-01-01 11:54:47          NaN   \n",
       "4   80312.0  registration            NaN 2018-01-01 13:28:07          NaN   \n",
       "\n",
       "   user_id  purchase_id  amount  \n",
       "0    27832          NaN     NaN  \n",
       "1    27833          NaN     NaN  \n",
       "2    27834          NaN     NaN  \n",
       "3    27835          NaN     NaN  \n",
       "4    27836          NaN     NaN  "
      ]
     },
     "execution_count": 55,
     "metadata": {},
     "output_type": "execute_result"
    }
   ],
   "source": [
    "#выводим итоговую таблицу со всеми событиями, с ней мы будем работать в дальнейшем\n",
    "total_events_df.head()"
   ]
  },
  {
   "cell_type": "markdown",
   "metadata": {},
   "source": [
    "Переходим к созданию датасета с событием **обучения**:"
   ]
  },
  {
   "cell_type": "code",
   "execution_count": 56,
   "metadata": {},
   "outputs": [
    {
     "data": {
      "text/html": [
       "<div>\n",
       "<style scoped>\n",
       "    .dataframe tbody tr th:only-of-type {\n",
       "        vertical-align: middle;\n",
       "    }\n",
       "\n",
       "    .dataframe tbody tr th {\n",
       "        vertical-align: top;\n",
       "    }\n",
       "\n",
       "    .dataframe thead th {\n",
       "        text-align: right;\n",
       "    }\n",
       "</style>\n",
       "<table border=\"1\" class=\"dataframe\">\n",
       "  <thead>\n",
       "    <tr style=\"text-align: right;\">\n",
       "      <th></th>\n",
       "      <th>user_id</th>\n",
       "      <th>tutorial_start_time</th>\n",
       "    </tr>\n",
       "  </thead>\n",
       "  <tbody>\n",
       "    <tr>\n",
       "      <th>0</th>\n",
       "      <td>27836</td>\n",
       "      <td>2018-01-01 14:54:40</td>\n",
       "    </tr>\n",
       "    <tr>\n",
       "      <th>1</th>\n",
       "      <td>27835</td>\n",
       "      <td>2018-01-01 15:00:51</td>\n",
       "    </tr>\n",
       "    <tr>\n",
       "      <th>2</th>\n",
       "      <td>27836</td>\n",
       "      <td>2018-01-01 15:40:43</td>\n",
       "    </tr>\n",
       "    <tr>\n",
       "      <th>3</th>\n",
       "      <td>27833</td>\n",
       "      <td>2018-01-01 17:47:40</td>\n",
       "    </tr>\n",
       "    <tr>\n",
       "      <th>4</th>\n",
       "      <td>27839</td>\n",
       "      <td>2018-01-01 19:11:36</td>\n",
       "    </tr>\n",
       "  </tbody>\n",
       "</table>\n",
       "</div>"
      ],
      "text/plain": [
       "   user_id tutorial_start_time\n",
       "0    27836 2018-01-01 14:54:40\n",
       "1    27835 2018-01-01 15:00:51\n",
       "2    27836 2018-01-01 15:40:43\n",
       "3    27833 2018-01-01 17:47:40\n",
       "4    27839 2018-01-01 19:11:36"
      ]
     },
     "execution_count": 56,
     "metadata": {},
     "output_type": "execute_result"
    }
   ],
   "source": [
    "#создаем датасет с пользователями, кто содержит событие начала обучения \n",
    "users_with_start=set(total_events_df[total_events_df['event_type'] == 'tutorial_start']['user_id']) \n",
    "#создаем общий датасет с пользователями, кто содержит событие начала обучения\n",
    "users_with_start_df = total_events_df[total_events_df['user_id'].isin(users_with_start)]\n",
    "#создаем датасет, который содержит только события начала обучения\n",
    "tutorial_start_df = users_with_start_df[users_with_start_df['event_type'] == 'tutorial_start'].\\\n",
    "    sort_values( by = 'start_time').reset_index(drop=True)\n",
    "#оставляем нужные колонки и переименовываем их для дальнейшего обединения в единый датасет со следующим событием\n",
    "tutorial_start_df = tutorial_start_df[['user_id', 'start_time']].\\\n",
    "    rename(columns = {'start_time':'tutorial_start_time'})\n",
    "tutorial_start_df.head()"
   ]
  },
  {
   "cell_type": "markdown",
   "metadata": {},
   "source": [
    "Далее создаем датасет с событием **выбора уровня:**  "
   ]
  },
  {
   "cell_type": "code",
   "execution_count": 57,
   "metadata": {},
   "outputs": [
    {
     "data": {
      "text/html": [
       "<div>\n",
       "<style scoped>\n",
       "    .dataframe tbody tr th:only-of-type {\n",
       "        vertical-align: middle;\n",
       "    }\n",
       "\n",
       "    .dataframe tbody tr th {\n",
       "        vertical-align: top;\n",
       "    }\n",
       "\n",
       "    .dataframe thead th {\n",
       "        text-align: right;\n",
       "    }\n",
       "</style>\n",
       "<table border=\"1\" class=\"dataframe\">\n",
       "  <thead>\n",
       "    <tr style=\"text-align: right;\">\n",
       "      <th></th>\n",
       "      <th>user_id</th>\n",
       "      <th>level_choice_time</th>\n",
       "    </tr>\n",
       "  </thead>\n",
       "  <tbody>\n",
       "    <tr>\n",
       "      <th>0</th>\n",
       "      <td>27835</td>\n",
       "      <td>2018-01-01 20:37:22</td>\n",
       "    </tr>\n",
       "    <tr>\n",
       "      <th>1</th>\n",
       "      <td>27839</td>\n",
       "      <td>2018-01-01 22:37:50</td>\n",
       "    </tr>\n",
       "    <tr>\n",
       "      <th>2</th>\n",
       "      <td>27840</td>\n",
       "      <td>2018-01-02 05:18:42</td>\n",
       "    </tr>\n",
       "    <tr>\n",
       "      <th>3</th>\n",
       "      <td>27845</td>\n",
       "      <td>2018-01-02 06:19:18</td>\n",
       "    </tr>\n",
       "    <tr>\n",
       "      <th>4</th>\n",
       "      <td>27842</td>\n",
       "      <td>2018-01-02 08:46:03</td>\n",
       "    </tr>\n",
       "  </tbody>\n",
       "</table>\n",
       "</div>"
      ],
      "text/plain": [
       "   user_id   level_choice_time\n",
       "0    27835 2018-01-01 20:37:22\n",
       "1    27839 2018-01-01 22:37:50\n",
       "2    27840 2018-01-02 05:18:42\n",
       "3    27845 2018-01-02 06:19:18\n",
       "4    27842 2018-01-02 08:46:03"
      ]
     },
     "execution_count": 57,
     "metadata": {},
     "output_type": "execute_result"
    }
   ],
   "source": [
    "#берем данные из общего датасета с пользователями, кто содержит событие начала обучения\n",
    "#отбираем только события выбора уровня\n",
    "level_choice_df = users_with_start_df[users_with_start_df['event_type'] == 'level_choice'].\\\n",
    "    sort_values( by = 'start_time')\n",
    "level_choice_df = level_choice_df[['user_id', 'start_time']].\\\n",
    "    rename(columns = {'start_time':'level_choice_time'}).reset_index(drop=True)\n",
    "level_choice_df = level_choice_df.sort_values(\n",
    "    \"level_choice_time\")\n",
    "level_choice_df.head()"
   ]
  },
  {
   "cell_type": "markdown",
   "metadata": {},
   "source": [
    "Объединяем получившиеся датасеты для дальнейшего формирования групп:"
   ]
  },
  {
   "cell_type": "code",
   "execution_count": 58,
   "metadata": {},
   "outputs": [
    {
     "data": {
      "text/html": [
       "<div>\n",
       "<style scoped>\n",
       "    .dataframe tbody tr th:only-of-type {\n",
       "        vertical-align: middle;\n",
       "    }\n",
       "\n",
       "    .dataframe tbody tr th {\n",
       "        vertical-align: top;\n",
       "    }\n",
       "\n",
       "    .dataframe thead th {\n",
       "        text-align: right;\n",
       "    }\n",
       "</style>\n",
       "<table border=\"1\" class=\"dataframe\">\n",
       "  <thead>\n",
       "    <tr style=\"text-align: right;\">\n",
       "      <th></th>\n",
       "      <th>user_id</th>\n",
       "      <th>tutorial_start_time</th>\n",
       "      <th>level_choice_time</th>\n",
       "      <th>timedelta</th>\n",
       "    </tr>\n",
       "  </thead>\n",
       "  <tbody>\n",
       "    <tr>\n",
       "      <th>0</th>\n",
       "      <td>27835</td>\n",
       "      <td>2018-01-01 15:00:51</td>\n",
       "      <td>2018-01-01 20:37:22</td>\n",
       "      <td>-1 days +18:23:29</td>\n",
       "    </tr>\n",
       "    <tr>\n",
       "      <th>1</th>\n",
       "      <td>27839</td>\n",
       "      <td>2018-01-01 19:11:36</td>\n",
       "      <td>2018-01-01 22:37:50</td>\n",
       "      <td>-1 days +20:33:46</td>\n",
       "    </tr>\n",
       "    <tr>\n",
       "      <th>2</th>\n",
       "      <td>27840</td>\n",
       "      <td>2018-01-02 02:07:07</td>\n",
       "      <td>2018-01-02 05:18:42</td>\n",
       "      <td>-1 days +20:48:25</td>\n",
       "    </tr>\n",
       "    <tr>\n",
       "      <th>3</th>\n",
       "      <td>27845</td>\n",
       "      <td>2018-01-02 03:03:44</td>\n",
       "      <td>2018-01-02 06:19:18</td>\n",
       "      <td>-1 days +20:44:26</td>\n",
       "    </tr>\n",
       "    <tr>\n",
       "      <th>4</th>\n",
       "      <td>27845</td>\n",
       "      <td>2018-01-02 07:08:00</td>\n",
       "      <td>2018-01-02 06:19:18</td>\n",
       "      <td>0 days 00:48:42</td>\n",
       "    </tr>\n",
       "    <tr>\n",
       "      <th>...</th>\n",
       "      <td>...</td>\n",
       "      <td>...</td>\n",
       "      <td>...</td>\n",
       "      <td>...</td>\n",
       "    </tr>\n",
       "    <tr>\n",
       "      <th>12681</th>\n",
       "      <td>47732</td>\n",
       "      <td>2018-12-31 07:14:38</td>\n",
       "      <td>2018-12-31 09:59:00</td>\n",
       "      <td>-1 days +21:15:38</td>\n",
       "    </tr>\n",
       "    <tr>\n",
       "      <th>12682</th>\n",
       "      <td>47747</td>\n",
       "      <td>2018-12-31 10:21:11</td>\n",
       "      <td>2018-12-31 12:24:40</td>\n",
       "      <td>-1 days +21:56:31</td>\n",
       "    </tr>\n",
       "    <tr>\n",
       "      <th>12683</th>\n",
       "      <td>47753</td>\n",
       "      <td>2018-12-31 20:54:56</td>\n",
       "      <td>2018-12-31 22:36:19</td>\n",
       "      <td>-1 days +22:18:37</td>\n",
       "    </tr>\n",
       "    <tr>\n",
       "      <th>12684</th>\n",
       "      <td>47755</td>\n",
       "      <td>2019-01-01 00:08:14</td>\n",
       "      <td>2019-01-01 05:04:52</td>\n",
       "      <td>-1 days +19:03:22</td>\n",
       "    </tr>\n",
       "    <tr>\n",
       "      <th>12685</th>\n",
       "      <td>47756</td>\n",
       "      <td>2019-01-01 03:26:18</td>\n",
       "      <td>2019-01-01 05:42:11</td>\n",
       "      <td>-1 days +21:44:07</td>\n",
       "    </tr>\n",
       "  </tbody>\n",
       "</table>\n",
       "<p>12686 rows × 4 columns</p>\n",
       "</div>"
      ],
      "text/plain": [
       "       user_id tutorial_start_time   level_choice_time         timedelta\n",
       "0        27835 2018-01-01 15:00:51 2018-01-01 20:37:22 -1 days +18:23:29\n",
       "1        27839 2018-01-01 19:11:36 2018-01-01 22:37:50 -1 days +20:33:46\n",
       "2        27840 2018-01-02 02:07:07 2018-01-02 05:18:42 -1 days +20:48:25\n",
       "3        27845 2018-01-02 03:03:44 2018-01-02 06:19:18 -1 days +20:44:26\n",
       "4        27845 2018-01-02 07:08:00 2018-01-02 06:19:18   0 days 00:48:42\n",
       "...        ...                 ...                 ...               ...\n",
       "12681    47732 2018-12-31 07:14:38 2018-12-31 09:59:00 -1 days +21:15:38\n",
       "12682    47747 2018-12-31 10:21:11 2018-12-31 12:24:40 -1 days +21:56:31\n",
       "12683    47753 2018-12-31 20:54:56 2018-12-31 22:36:19 -1 days +22:18:37\n",
       "12684    47755 2019-01-01 00:08:14 2019-01-01 05:04:52 -1 days +19:03:22\n",
       "12685    47756 2019-01-01 03:26:18 2019-01-01 05:42:11 -1 days +21:44:07\n",
       "\n",
       "[12686 rows x 4 columns]"
      ]
     },
     "execution_count": 58,
     "metadata": {},
     "output_type": "execute_result"
    }
   ],
   "source": [
    "#объединяем данные при помощи функции .merge()\n",
    "merged_group = tutorial_start_df.merge(level_choice_df, on = 'user_id', how = 'inner')\n",
    "#создаем новый столбец, где будет храниться информация о разнице во времени прохождения этапов \n",
    "merged_group['timedelta'] = merged_group['tutorial_start_time'] - merged_group['level_choice_time']\n",
    "merged_group"
   ]
  },
  {
   "cell_type": "markdown",
   "metadata": {},
   "source": [
    "Мы получили данные о **разнице во времени** между прохождением этапа начала обучения и выбора уровня. \n",
    "если результат получился с положительным значением, значит пользователь возвращался к обучению после выбора уровня. Обозначим пользователей, кто обращался к обучению в этом же датасете. \n",
    "> Отметим значением ***'yes'*** пользователей, кто обращался к обучению снова и ***'no'*** оставшихся пользователей. "
   ]
  },
  {
   "cell_type": "code",
   "execution_count": 59,
   "metadata": {},
   "outputs": [
    {
     "data": {
      "text/html": [
       "<div>\n",
       "<style scoped>\n",
       "    .dataframe tbody tr th:only-of-type {\n",
       "        vertical-align: middle;\n",
       "    }\n",
       "\n",
       "    .dataframe tbody tr th {\n",
       "        vertical-align: top;\n",
       "    }\n",
       "\n",
       "    .dataframe thead th {\n",
       "        text-align: right;\n",
       "    }\n",
       "</style>\n",
       "<table border=\"1\" class=\"dataframe\">\n",
       "  <thead>\n",
       "    <tr style=\"text-align: right;\">\n",
       "      <th></th>\n",
       "      <th>user_id</th>\n",
       "      <th>tutorial_start_time</th>\n",
       "      <th>level_choice_time</th>\n",
       "      <th>timedelta</th>\n",
       "      <th>groups</th>\n",
       "    </tr>\n",
       "  </thead>\n",
       "  <tbody>\n",
       "    <tr>\n",
       "      <th>0</th>\n",
       "      <td>27835</td>\n",
       "      <td>2018-01-01 15:00:51</td>\n",
       "      <td>2018-01-01 20:37:22</td>\n",
       "      <td>-1 days +18:23:29</td>\n",
       "      <td>no</td>\n",
       "    </tr>\n",
       "    <tr>\n",
       "      <th>1</th>\n",
       "      <td>27839</td>\n",
       "      <td>2018-01-01 19:11:36</td>\n",
       "      <td>2018-01-01 22:37:50</td>\n",
       "      <td>-1 days +20:33:46</td>\n",
       "      <td>no</td>\n",
       "    </tr>\n",
       "    <tr>\n",
       "      <th>2</th>\n",
       "      <td>27840</td>\n",
       "      <td>2018-01-02 02:07:07</td>\n",
       "      <td>2018-01-02 05:18:42</td>\n",
       "      <td>-1 days +20:48:25</td>\n",
       "      <td>no</td>\n",
       "    </tr>\n",
       "    <tr>\n",
       "      <th>3</th>\n",
       "      <td>27845</td>\n",
       "      <td>2018-01-02 03:03:44</td>\n",
       "      <td>2018-01-02 06:19:18</td>\n",
       "      <td>-1 days +20:44:26</td>\n",
       "      <td>no</td>\n",
       "    </tr>\n",
       "    <tr>\n",
       "      <th>4</th>\n",
       "      <td>27845</td>\n",
       "      <td>2018-01-02 07:08:00</td>\n",
       "      <td>2018-01-02 06:19:18</td>\n",
       "      <td>0 days 00:48:42</td>\n",
       "      <td>yes</td>\n",
       "    </tr>\n",
       "  </tbody>\n",
       "</table>\n",
       "</div>"
      ],
      "text/plain": [
       "   user_id tutorial_start_time   level_choice_time         timedelta groups\n",
       "0    27835 2018-01-01 15:00:51 2018-01-01 20:37:22 -1 days +18:23:29     no\n",
       "1    27839 2018-01-01 19:11:36 2018-01-01 22:37:50 -1 days +20:33:46     no\n",
       "2    27840 2018-01-02 02:07:07 2018-01-02 05:18:42 -1 days +20:48:25     no\n",
       "3    27845 2018-01-02 03:03:44 2018-01-02 06:19:18 -1 days +20:44:26     no\n",
       "4    27845 2018-01-02 07:08:00 2018-01-02 06:19:18   0 days 00:48:42    yes"
      ]
     },
     "execution_count": 59,
     "metadata": {},
     "output_type": "execute_result"
    }
   ],
   "source": [
    "#определяем переменную с которой будем сравнивать наше время \n",
    "delta = datetime.timedelta(days = 0, hours = 0, minutes = 0, seconds = 0)\n",
    "#создаем функцию, которая будет распределять пользователей по группам\n",
    "def assignment(time): \n",
    "    if time>delta:\n",
    "        return 'yes' \n",
    "    else: \n",
    "        return 'no'\n",
    "#создаем новый столбец, куда запишем метки распределения по группам \n",
    "merged_group['groups'] = merged_group.timedelta.apply(assignment) \n",
    "merged_group.head()"
   ]
  },
  {
   "cell_type": "markdown",
   "metadata": {},
   "source": [
    "Итак, мы получили информацию о пользователях, кто обратился снова к обучению, после выбора уровня.  \n",
    "Посмотрим на **количество пользователей и определим его процент от общего количества пользователей**, выбравших уровень сложности:"
   ]
  },
  {
   "cell_type": "code",
   "execution_count": 60,
   "metadata": {},
   "outputs": [
    {
     "name": "stdout",
     "output_type": "stream",
     "text": [
      "Количество пользователей, кто вернулся после выбора сложности к обучению:\n",
      " 1386\n"
     ]
    }
   ],
   "source": [
    "count_return = merged_group[merged_group['groups'] == 'yes'].user_id.nunique()\n",
    "print('Количество пользователей, кто вернулся после выбора сложности к обучению:\\n', count_return)"
   ]
  },
  {
   "cell_type": "code",
   "execution_count": 61,
   "metadata": {},
   "outputs": [
    {
     "name": "stdout",
     "output_type": "stream",
     "text": [
      "Общее количество пользователей, кто выбрал уровень сложности:\n",
      " 8244\n"
     ]
    }
   ],
   "source": [
    "total_count = merged_group['user_id'].nunique()\n",
    "print('Общее количество пользователей, кто выбрал уровень сложности:\\n', total_count)"
   ]
  },
  {
   "cell_type": "markdown",
   "metadata": {},
   "source": [
    "И наконец, найдем процент пользователей, кто обратился снова к обучению, от общего количества:"
   ]
  },
  {
   "cell_type": "code",
   "execution_count": 62,
   "metadata": {},
   "outputs": [
    {
     "name": "stdout",
     "output_type": "stream",
     "text": [
      "Процент пользователей, кто обратился снова к обучению, от общего количества составляет:\n",
      "16.81%\n"
     ]
    }
   ],
   "source": [
    "percent_of_total = count_return/total_count\n",
    "print('Процент пользователей, кто обратился снова к обучению, от общего количества составляет:\\n{:.2%}'.\\\n",
    "      format(percent_of_total))"
   ]
  },
  {
   "cell_type": "markdown",
   "metadata": {},
   "source": [
    "## Ниже представлена диаграмма, отражающая процент пользователей, которые после выбора уровня сложности обращаются к обучению, от общего числа пользователей содержащих событие выбора уровня.  ##"
   ]
  },
  {
   "cell_type": "code",
   "execution_count": 63,
   "metadata": {},
   "outputs": [
    {
     "data": {
      "image/png": "[encoded data removed]",
      "text/plain": [
       "<Figure size 600x600 with 1 Axes>"
      ]
     },
     "metadata": {},
     "output_type": "display_data"
    }
   ],
   "source": [
    "sns.set(font_scale = 1.2)\n",
    "plt.figure(figsize=(6,6))\n",
    "plt.pie(\n",
    "    x=[1386, 6858], \n",
    "    labels=['После выбора уровня снова обратились к обучению', 'Остальные пользователи'],\n",
    "    autopct='%1.2f%%',\n",
    "    textprops={'fontsize':12.5},\n",
    "    shadow = True,\n",
    "    startangle = 90,\n",
    "    colors=['orchid', 'cornflowerblue'],\n",
    "    explode=[0.05, 0.05]\n",
    ")\n",
    "plt.show()"
   ]
  },
  {
   "cell_type": "markdown",
   "metadata": {},
   "source": [
    "# ВЫВОДЫ ДЛЯ ЗАДАЧИ №3: #\n",
    "> **Целью** задачи было понять, насколько прозрачен процесс взаимодействия с игрой: если пользователи после выбора уровня сложности обращаются к обучению, значит, работа с приложением непонятна. \n",
    "---\n",
    "\n",
    "Если посмотреть на **процентное соотношения пользователей**, тех кто после выбора уровня сложности обратились к обучению снова, и остальных пользователей, у кого есть событие выбора уровня сложности (**16.8%** против **83.2%** соответственно) можно сказать, что **процент пользователей**, кто снова обращался к обучению не такой большой. И можно считать процесс взаимодействия с игрой прозрачным. Однако для точного ответа хотелось бы рассмотреть отдельно пользовательские пути участников игры, кто возращается к обучению, и временные промежутки между событиями. Тк вполне возможно, что часть из них обращалась за обучением дабы освежить знания а не потому что процесс не понятнен. \n",
    "\n",
    "На основании проведенного мною **анализа**, могу сказать, что **процесс взаимодействия с игрой достаточно прозрачен**."
   ]
  }
 ],
 "metadata": {
  "kernelspec": {
   "display_name": "Python 3 (ipykernel)",
   "language": "python",
   "name": "python3"
  },
  "language_info": {
   "codemirror_mode": {
    "name": "ipython",
    "version": 3
   },
   "file_extension": ".py",
   "mimetype": "text/x-python",
   "name": "python",
   "nbconvert_exporter": "python",
   "pygments_lexer": "ipython3",
   "version": "3.11.4"
  }
 },
 "nbformat": 4,
 "nbformat_minor": 4
}
